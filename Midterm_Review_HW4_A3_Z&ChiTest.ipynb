{
 "cells": [
  {
   "cell_type": "code",
   "execution_count": 2,
   "metadata": {
    "collapsed": false
   },
   "outputs": [
    {
     "name": "stdout",
     "output_type": "stream",
     "text": [
      "Populating the interactive namespace from numpy and matplotlib\n"
     ]
    }
   ],
   "source": [
    "import os\n",
    "import sys\n",
    "import numpy as np\n",
    "import pylab as pl\n",
    "\n",
    "import json\n",
    "import os\n",
    "\n",
    "\n",
    "%pylab inline"
   ]
  },
  {
   "cell_type": "markdown",
   "metadata": {
    "collapsed": true
   },
   "source": [
    "# Z-Test\n",
    "\n",
    "### There are 4 steps to the Z-Test:\n",
    "\n",
    "1. Calculate the Pooled Sample Proportion (p)\n",
    "2. Use \"p\" to calculate the Standard Error (se)\n",
    "3. Use \"se\" to calculate the z-score (z)\n",
    "4. Look up z on the table to find the p-value\n",
    "    if p-value is less than alpha (0.05) then reject the null"
   ]
  },
  {
   "cell_type": "markdown",
   "metadata": {
    "collapsed": true
   },
   "source": [
    "## 1. Calculate the Pooled Sample Proportion \n",
    "    This is done when there are 2 samples of different sizes /n\n",
    "    ex: 41/409 and 66/568\n",
    "        REMEMBER: if the p0 and p1 are given as %, we must calculate the ACTUAL number \n",
    "            \n",
    "    "
   ]
  },
  {
   "cell_type": "code",
   "execution_count": 6,
   "metadata": {
    "collapsed": false
   },
   "outputs": [],
   "source": [
    "p = lambda p0, p1, n0, n1: (p0 * n0 + p1 * n1) / (n0 + n1)\n",
    "\n",
    "#p is a function to calculate the Pooled Sample Proportion\n",
    "# p0=group 1 respondents, p1= 2nd group respondents (ie those employed, or those voting etc)\n",
    "# n0=group one sample size, p2=second group sample size (ie total surveyed from each group)\n",
    "\n",
    "# we dont need to ACTUALLY call the \"p\" function, but we will use it to nest in the se func\n",
    "# note: Federica does these 3 function in the solutions as one, i find it easier to follow...\n",
    "# by parsing them out\n"
   ]
  },
  {
   "cell_type": "markdown",
   "metadata": {
    "collapsed": false
   },
   "source": [
    "## 2. Calculate the Standard Error (se) using 'p' from above"
   ]
  },
  {
   "cell_type": "code",
   "execution_count": 8,
   "metadata": {
    "collapsed": true
   },
   "outputs": [],
   "source": [
    "se = lambda p, n0, n1: np.sqrt(p * (1 - p) * (1.0 / n0 + 1.0 / n1))\n",
    "\n",
    "#\"p\" in this function is the p calculated above, NOT from a sample \n",
    "# federica calls this the \"Test Standard Deviation Error\"\n",
    "# it is sometimes notated as 'sigma' symbol"
   ]
  },
  {
   "cell_type": "markdown",
   "metadata": {},
   "source": [
    "## 3. Calculate the Z score using the se\n",
    "Note that z-score and \"test statistic\" I've found to be used interchangably"
   ]
  },
  {
   "cell_type": "code",
   "execution_count": 9,
   "metadata": {
    "collapsed": true
   },
   "outputs": [],
   "source": [
    "zscore = lambda p0, p1, s : (p1 - p0) / s\n",
    "\n",
    "# p0=group 1 respondents, p1= 2nd group respondents (ie those employed, or those voting etc)\n",
    "# s is the 'se' we calculated above"
   ]
  },
  {
   "cell_type": "markdown",
   "metadata": {},
   "source": [
    "# 4. Lookup the Z score result on the Ztable\n",
    "- The values IN the table are \"p-values\"\n",
    "- Rows are Z score, Comlumns are alpha (we will always use 0.05)\n",
    "- For nagative z-score: use the value on the table\n",
    "- For postive z-score: subtract the value on the table from 1 (1-pvalue)"
   ]
  },
  {
   "cell_type": "markdown",
   "metadata": {},
   "source": [
    "# The line below is a quick ref for the Z-test\n",
    "# USE THIS IF ACTUAL VALUES ARE GIVEN FOR p0 and p1"
   ]
  },
  {
   "cell_type": "code",
   "execution_count": null,
   "metadata": {
    "collapsed": true
   },
   "outputs": [],
   "source": [
    "alpha=0.05\n",
    "\n",
    "p_0 = \n",
    "p_1 = \n",
    "\n",
    "n_0 = \n",
    "n_1 = \n",
    "\n",
    "\n",
    "p = lambda p0, p1, n0, n1: (p0 * n0 + p1 * n1) / (n0 + n1)\n",
    "se = lambda p, n0, n1: np.sqrt(p * (1 - p) * (1.0 / n0 + 1.0 / n1)) \n",
    "zscore = lambda p0, p1, s : (p1 - p0) / s\n",
    "\n",
    "standard_error = se(p(p_0, p_1, n_0, n_1), n_0, n_1)\n",
    "\n",
    "calc_zscore = zscore(p_0, p_1, standard_error)\n",
    "\n",
    "print (standard_error)\n",
    "print (calc_zscore)"
   ]
  },
  {
   "cell_type": "markdown",
   "metadata": {},
   "source": [
    "# USE THIS IF % ARE GIVEN FOR p0 and p1"
   ]
  },
  {
   "cell_type": "code",
   "execution_count": null,
   "metadata": {
    "collapsed": true
   },
   "outputs": [],
   "source": [
    "alpha=0.05\n",
    "\n",
    "n2_0 = \n",
    "n2_1 = \n",
    "\n",
    "P2_0 = #% * 0.01  \n",
    "P2_1 = #% * 0.01 \n",
    "\n",
    "print(P2_0, P2_1)\n",
    "\n",
    "p = lambda p0, p1, n0, n1: (p0 * n0 + p1 * n1) / (n0 + n1)\n",
    "se = lambda p, n0, n1: np.sqrt(p * (1 - p) * (1.0 / n0 + 1.0 / n1)) \n",
    "zscore = lambda p0, p1, s : (p1 - p0) / s\n",
    "\n",
    "standard_error=se(p(P2_0, P2_1, n2_0, n2_1), n2_0, n2_1)\n",
    "\n",
    "z_3y = zscore(P2_1, P2_0, standard_error)\n",
    "\n",
    "print (standard_error)\n",
    "print (n2_0, n2_1)\n",
    "print (z_3y)"
   ]
  },
  {
   "cell_type": "markdown",
   "metadata": {},
   "source": [
    "## The below function is a 'fancy' way to reject null\n",
    "p= pvalue from the table\n",
    "a= alpha (0.05)"
   ]
  },
  {
   "cell_type": "code",
   "execution_count": 12,
   "metadata": {
    "collapsed": true
   },
   "outputs": [],
   "source": [
    "def report_result(p,a):\n",
    "    print ('is the p value ' + \n",
    "           '{0:.5f} smaller than the critical value {1:.2f}?'.format(p,a))\n",
    "    if p < a:\n",
    "        print (\"YES!\")\n",
    "    else: \n",
    "        print (\"NO!\")\n",
    "    \n",
    "    print ('the Null hypothesis is {}'.format(\\\n",
    "                            'rejected' if p < a  else 'not rejected') )"
   ]
  },
  {
   "cell_type": "code",
   "execution_count": null,
   "metadata": {
    "collapsed": true
   },
   "outputs": [],
   "source": [
    "report_result('enter pvalue', alpha)"
   ]
  },
  {
   "cell_type": "code",
   "execution_count": null,
   "metadata": {
    "collapsed": true
   },
   "outputs": [],
   "source": []
  },
  {
   "cell_type": "markdown",
   "metadata": {},
   "source": [
    "# CHI SQ TEST\n",
    "\n",
    "- evalChisq function from Federica\n",
    "- Calculate the CHI SQ value with the functions below\n",
    "- Then look the value up in the CHISQ table\n"
   ]
  },
  {
   "cell_type": "code",
   "execution_count": 13,
   "metadata": {
    "collapsed": true
   },
   "outputs": [],
   "source": [
    "from scipy.stats import chisquare"
   ]
  },
  {
   "cell_type": "code",
   "execution_count": 14,
   "metadata": {
    "collapsed": true
   },
   "outputs": [],
   "source": [
    "def evalChisq(values):\n",
    "    values = np.array(values)\n",
    "    E = np.empty_like(values)\n",
    "    for j in range(len(values[0])):\n",
    "        for i in range(2):\n",
    "            \n",
    "            E[i][j] = ((values[i,:].sum() * values[:,j].sum()) / \n",
    "                        (values).sum())\n",
    "    return ((values - E)**2 / E).sum()\n"
   ]
  },
  {
   "cell_type": "code",
   "execution_count": 23,
   "metadata": {
    "collapsed": false
   },
   "outputs": [
    {
     "name": "stdout",
     "output_type": "stream",
     "text": [
      "chi sq statistics for \"whatever we are testing for\": chisq = 436.223, DOF = 1\n"
     ]
    }
   ],
   "source": [
    "sample_values = np.array([[0.701 * 564, 0.299 * 564], [0.0305 * 409, 0.965 * 409]])\n",
    "\n",
    "# the numbers above are %p1 * n1, %not p1 * n1\n",
    "\n",
    "chisq_test = evalChisq(sample_values)\n",
    "DOF = len(sample_values) - 1\n",
    "#DOF is Degrees of Freedom (N-1)\n",
    "#DOF calculated by number of variables (N), which is the number of sample groups - 1\n",
    "\n",
    "\n",
    "print ('chi sq statistics for \"whatever we are testing for\": '+\n",
    "       'chisq = {:.3f}, DOF = {:d}'.format(chisq_test, DOF))\n",
    "#the .3f indicates the number of decimal places which is 3 in this case\n",
    "# not exactly sure what the d means"
   ]
  },
  {
   "cell_type": "markdown",
   "metadata": {},
   "source": [
    "## Quick ref for CHI SQ"
   ]
  },
  {
   "cell_type": "code",
   "execution_count": 19,
   "metadata": {
    "collapsed": false
   },
   "outputs": [
    {
     "name": "stdout",
     "output_type": "stream",
     "text": [
      "chi sq statistics for \"ever employed in CEO jobs\": chisq = 436.223463, DOF = 1\n"
     ]
    }
   ],
   "source": [
    "sample_values  = np.array([[0.701 * 564, 0.299 * 564], [0.0305 * 409, 0.965 * 409]])\n",
    "#just change the values for the array, everything else will go through\n",
    "\n",
    "\n",
    "chisq_test = evalChisq(sample_values)\n",
    "DOF = len(sample_values) - 1\n",
    "pprint ('chi sq statistics for \"whatever we are testing for\": '+\n",
    "       'chisq = {:.3f}, DOF = {:d}'.format(chisq_test, DOF))"
   ]
  },
  {
   "cell_type": "markdown",
   "metadata": {},
   "source": [
    "## Next go to CHISQ Table\n",
    "- The values IN the table are the CHISQ statistics, which is what we calculated above\n",
    "- Rows are degrees of freedom\n",
    "- Find your CHISQ stat in the DOF row\n",
    "- With an alpha of 0.05 the CHI SQ stat MUST ALWAYS be larger then 3.84 to reject"
   ]
  },
  {
   "cell_type": "code",
   "execution_count": null,
   "metadata": {
    "collapsed": true
   },
   "outputs": [],
   "source": []
  }
 ],
 "metadata": {
  "kernelspec": {
   "display_name": "PUI2016_Python2",
   "language": "python",
   "name": "pui2016_python2"
  },
  "language_info": {
   "codemirror_mode": {
    "name": "ipython",
    "version": 2
   },
   "file_extension": ".py",
   "mimetype": "text/x-python",
   "name": "python",
   "nbconvert_exporter": "python",
   "pygments_lexer": "ipython2",
   "version": "2.7.12"
  }
 },
 "nbformat": 4,
 "nbformat_minor": 0
}
