{
 "cells": [
  {
   "cell_type": "markdown",
   "metadata": {},
   "source": [
    "# HW8-ASSN1: Which community districts in NYC show the highest number of complaints?"
   ]
  },
  {
   "cell_type": "code",
   "execution_count": 45,
   "metadata": {
    "collapsed": true
   },
   "outputs": [],
   "source": [
    "import os\n",
    "import pandas as pd\n",
    "import numpy as np\n",
    "import re\n",
    "import sys\n",
    "PUIdata = os.getenv('PUIDATA')"
   ]
  },
  {
   "cell_type": "code",
   "execution_count": 46,
   "metadata": {
    "collapsed": false
   },
   "outputs": [
    {
     "name": "stderr",
     "output_type": "stream",
     "text": [
      "/opt/rh/anaconda/root/envs/PUI2016_Python3/lib/python3.5/site-packages/IPython/core/interactiveshell.py:2717: DtypeWarning: Columns (8,17,39,40,47,48) have mixed types. Specify dtype option on import or set low_memory=False.\n",
      "  interactivity=interactivity, compiler=compiler, result=result)\n"
     ]
    }
   ],
   "source": [
    "comdistdata = pd.read_csv('/projects/open/NYCOpenData/nycopendata/data/erm2-nwe9/1446832678/erm2-nwe9')"
   ]
  },
  {
   "cell_type": "code",
   "execution_count": 47,
   "metadata": {
    "collapsed": false
   },
   "outputs": [
    {
     "data": {
      "text/html": [
       "<div>\n",
       "<table border=\"1\" class=\"dataframe\">\n",
       "  <thead>\n",
       "    <tr style=\"text-align: right;\">\n",
       "      <th></th>\n",
       "      <th>Unique Key</th>\n",
       "      <th>Created Date</th>\n",
       "      <th>Closed Date</th>\n",
       "      <th>Agency</th>\n",
       "      <th>Agency Name</th>\n",
       "      <th>Complaint Type</th>\n",
       "      <th>Descriptor</th>\n",
       "      <th>Location Type</th>\n",
       "      <th>Incident Zip</th>\n",
       "      <th>Incident Address</th>\n",
       "      <th>...</th>\n",
       "      <th>Bridge Highway Name</th>\n",
       "      <th>Bridge Highway Direction</th>\n",
       "      <th>Road Ramp</th>\n",
       "      <th>Bridge Highway Segment</th>\n",
       "      <th>Garage Lot Name</th>\n",
       "      <th>Ferry Direction</th>\n",
       "      <th>Ferry Terminal Name</th>\n",
       "      <th>Latitude</th>\n",
       "      <th>Longitude</th>\n",
       "      <th>Location</th>\n",
       "    </tr>\n",
       "  </thead>\n",
       "  <tbody>\n",
       "    <tr>\n",
       "      <th>0</th>\n",
       "      <td>31911011</td>\n",
       "      <td>11/05/2015 02:59:15 AM</td>\n",
       "      <td>NaN</td>\n",
       "      <td>DOT</td>\n",
       "      <td>Department of Transportation</td>\n",
       "      <td>Street Condition</td>\n",
       "      <td>Pothole</td>\n",
       "      <td>NaN</td>\n",
       "      <td>11224</td>\n",
       "      <td>NaN</td>\n",
       "      <td>...</td>\n",
       "      <td>NaN</td>\n",
       "      <td>NaN</td>\n",
       "      <td>NaN</td>\n",
       "      <td>NaN</td>\n",
       "      <td>NaN</td>\n",
       "      <td>NaN</td>\n",
       "      <td>NaN</td>\n",
       "      <td>40.573431</td>\n",
       "      <td>-73.991742</td>\n",
       "      <td>(40.57343122248129, -73.99174247588253)</td>\n",
       "    </tr>\n",
       "    <tr>\n",
       "      <th>1</th>\n",
       "      <td>31908754</td>\n",
       "      <td>11/05/2015 02:09:49 AM</td>\n",
       "      <td>NaN</td>\n",
       "      <td>CHALL</td>\n",
       "      <td>CHALL</td>\n",
       "      <td>Opinion for the Mayor</td>\n",
       "      <td>HOUSING</td>\n",
       "      <td>NaN</td>\n",
       "      <td>NaN</td>\n",
       "      <td>NaN</td>\n",
       "      <td>...</td>\n",
       "      <td>NaN</td>\n",
       "      <td>NaN</td>\n",
       "      <td>NaN</td>\n",
       "      <td>1-1-1173130914</td>\n",
       "      <td>NaN</td>\n",
       "      <td>NaN</td>\n",
       "      <td>NaN</td>\n",
       "      <td>NaN</td>\n",
       "      <td>NaN</td>\n",
       "      <td>NaN</td>\n",
       "    </tr>\n",
       "    <tr>\n",
       "      <th>2</th>\n",
       "      <td>31910423</td>\n",
       "      <td>11/05/2015 02:06:51 AM</td>\n",
       "      <td>NaN</td>\n",
       "      <td>DPR</td>\n",
       "      <td>Department of Parks and Recreation</td>\n",
       "      <td>Root/Sewer/Sidewalk Condition</td>\n",
       "      <td>Trees and Sidewalks Program</td>\n",
       "      <td>Street</td>\n",
       "      <td>11234</td>\n",
       "      <td>1157 EAST 57 STREET</td>\n",
       "      <td>...</td>\n",
       "      <td>NaN</td>\n",
       "      <td>NaN</td>\n",
       "      <td>NaN</td>\n",
       "      <td>NaN</td>\n",
       "      <td>NaN</td>\n",
       "      <td>NaN</td>\n",
       "      <td>NaN</td>\n",
       "      <td>40.625004</td>\n",
       "      <td>-73.920726</td>\n",
       "      <td>(40.62500363580505, -73.92072558378698)</td>\n",
       "    </tr>\n",
       "    <tr>\n",
       "      <th>3</th>\n",
       "      <td>31909924</td>\n",
       "      <td>11/05/2015 02:02:20 AM</td>\n",
       "      <td>NaN</td>\n",
       "      <td>NYPD</td>\n",
       "      <td>New York City Police Department</td>\n",
       "      <td>Illegal Parking</td>\n",
       "      <td>Blocked Hydrant</td>\n",
       "      <td>Street/Sidewalk</td>\n",
       "      <td>11218</td>\n",
       "      <td>722 EAST 4 STREET</td>\n",
       "      <td>...</td>\n",
       "      <td>NaN</td>\n",
       "      <td>NaN</td>\n",
       "      <td>NaN</td>\n",
       "      <td>NaN</td>\n",
       "      <td>NaN</td>\n",
       "      <td>NaN</td>\n",
       "      <td>NaN</td>\n",
       "      <td>40.634522</td>\n",
       "      <td>-73.974790</td>\n",
       "      <td>(40.634522428879706, -73.97479041437481)</td>\n",
       "    </tr>\n",
       "    <tr>\n",
       "      <th>4</th>\n",
       "      <td>31913310</td>\n",
       "      <td>11/05/2015 01:57:20 AM</td>\n",
       "      <td>11/05/2015 01:57:31 AM</td>\n",
       "      <td>HRA</td>\n",
       "      <td>HRA Benefit Card Replacement</td>\n",
       "      <td>Benefit Card Replacement</td>\n",
       "      <td>Medicaid</td>\n",
       "      <td>NYC Street Address</td>\n",
       "      <td>NaN</td>\n",
       "      <td>NaN</td>\n",
       "      <td>...</td>\n",
       "      <td>NaN</td>\n",
       "      <td>NaN</td>\n",
       "      <td>NaN</td>\n",
       "      <td>NaN</td>\n",
       "      <td>NaN</td>\n",
       "      <td>NaN</td>\n",
       "      <td>NaN</td>\n",
       "      <td>NaN</td>\n",
       "      <td>NaN</td>\n",
       "      <td>NaN</td>\n",
       "    </tr>\n",
       "  </tbody>\n",
       "</table>\n",
       "<p>5 rows × 53 columns</p>\n",
       "</div>"
      ],
      "text/plain": [
       "   Unique Key            Created Date             Closed Date Agency  \\\n",
       "0    31911011  11/05/2015 02:59:15 AM                     NaN    DOT   \n",
       "1    31908754  11/05/2015 02:09:49 AM                     NaN  CHALL   \n",
       "2    31910423  11/05/2015 02:06:51 AM                     NaN    DPR   \n",
       "3    31909924  11/05/2015 02:02:20 AM                     NaN   NYPD   \n",
       "4    31913310  11/05/2015 01:57:20 AM  11/05/2015 01:57:31 AM    HRA   \n",
       "\n",
       "                          Agency Name                 Complaint Type  \\\n",
       "0        Department of Transportation               Street Condition   \n",
       "1                               CHALL          Opinion for the Mayor   \n",
       "2  Department of Parks and Recreation  Root/Sewer/Sidewalk Condition   \n",
       "3     New York City Police Department                Illegal Parking   \n",
       "4        HRA Benefit Card Replacement       Benefit Card Replacement   \n",
       "\n",
       "                    Descriptor       Location Type Incident Zip  \\\n",
       "0                      Pothole                 NaN        11224   \n",
       "1                      HOUSING                 NaN          NaN   \n",
       "2  Trees and Sidewalks Program              Street        11234   \n",
       "3              Blocked Hydrant     Street/Sidewalk        11218   \n",
       "4                     Medicaid  NYC Street Address          NaN   \n",
       "\n",
       "      Incident Address                    ...                     \\\n",
       "0                  NaN                    ...                      \n",
       "1                  NaN                    ...                      \n",
       "2  1157 EAST 57 STREET                    ...                      \n",
       "3    722 EAST 4 STREET                    ...                      \n",
       "4                  NaN                    ...                      \n",
       "\n",
       "  Bridge Highway Name Bridge Highway Direction Road Ramp  \\\n",
       "0                 NaN                      NaN       NaN   \n",
       "1                 NaN                      NaN       NaN   \n",
       "2                 NaN                      NaN       NaN   \n",
       "3                 NaN                      NaN       NaN   \n",
       "4                 NaN                      NaN       NaN   \n",
       "\n",
       "  Bridge Highway Segment Garage Lot Name Ferry Direction Ferry Terminal Name  \\\n",
       "0                    NaN             NaN             NaN                 NaN   \n",
       "1         1-1-1173130914             NaN             NaN                 NaN   \n",
       "2                    NaN             NaN             NaN                 NaN   \n",
       "3                    NaN             NaN             NaN                 NaN   \n",
       "4                    NaN             NaN             NaN                 NaN   \n",
       "\n",
       "    Latitude  Longitude                                  Location  \n",
       "0  40.573431 -73.991742   (40.57343122248129, -73.99174247588253)  \n",
       "1        NaN        NaN                                       NaN  \n",
       "2  40.625004 -73.920726   (40.62500363580505, -73.92072558378698)  \n",
       "3  40.634522 -73.974790  (40.634522428879706, -73.97479041437481)  \n",
       "4        NaN        NaN                                       NaN  \n",
       "\n",
       "[5 rows x 53 columns]"
      ]
     },
     "execution_count": 47,
     "metadata": {},
     "output_type": "execute_result"
    }
   ],
   "source": [
    "comdistdata.head()"
   ]
  },
  {
   "cell_type": "code",
   "execution_count": 48,
   "metadata": {
    "collapsed": true
   },
   "outputs": [],
   "source": [
    "comdistdata.drop(['Unique Key', 'Created Date', 'Closed Date', 'Agency', 'Agency Name',\n",
    "       'Location Type', 'Incident Zip',\n",
    "       'Incident Address', 'Street Name', 'Cross Street 1', 'Cross Street 2',\n",
    "       'Intersection Street 1', 'Intersection Street 2', 'Address Type',\n",
    "       'City', 'Landmark', 'Facility Type', 'Status', 'Due Date',\n",
    "       'Resolution Description', 'Resolution Action Updated Date',\n",
    "       'X Coordinate (State Plane)',\n",
    "       'Y Coordinate (State Plane)', 'Park Facility Name', 'Park Borough',\n",
    "       'School Name', 'School Number', 'School Region', 'School Code',\n",
    "       'School Phone Number', 'School Address', 'School City', 'School State',\n",
    "       'School Zip', 'School Not Found', 'School or Citywide Complaint',\n",
    "       'Vehicle Type', 'Taxi Company Borough', 'Taxi Pick Up Location',\n",
    "       'Bridge Highway Name', 'Bridge Highway Direction', 'Road Ramp',\n",
    "       'Bridge Highway Segment', 'Garage Lot Name', 'Ferry Direction',\n",
    "       'Ferry Terminal Name', 'Location'], axis=1, inplace=True)"
   ]
  },
  {
   "cell_type": "code",
   "execution_count": 49,
   "metadata": {
    "collapsed": false
   },
   "outputs": [
    {
     "data": {
      "text/html": [
       "<div>\n",
       "<table border=\"1\" class=\"dataframe\">\n",
       "  <thead>\n",
       "    <tr style=\"text-align: right;\">\n",
       "      <th></th>\n",
       "      <th>Complaint Type</th>\n",
       "      <th>Descriptor</th>\n",
       "      <th>Community Board</th>\n",
       "      <th>Borough</th>\n",
       "      <th>Latitude</th>\n",
       "      <th>Longitude</th>\n",
       "    </tr>\n",
       "  </thead>\n",
       "  <tbody>\n",
       "    <tr>\n",
       "      <th>0</th>\n",
       "      <td>Street Condition</td>\n",
       "      <td>Pothole</td>\n",
       "      <td>13 BROOKLYN</td>\n",
       "      <td>BROOKLYN</td>\n",
       "      <td>40.573431</td>\n",
       "      <td>-73.991742</td>\n",
       "    </tr>\n",
       "    <tr>\n",
       "      <th>1</th>\n",
       "      <td>Opinion for the Mayor</td>\n",
       "      <td>HOUSING</td>\n",
       "      <td>0 Unspecified</td>\n",
       "      <td>Unspecified</td>\n",
       "      <td>NaN</td>\n",
       "      <td>NaN</td>\n",
       "    </tr>\n",
       "    <tr>\n",
       "      <th>2</th>\n",
       "      <td>Root/Sewer/Sidewalk Condition</td>\n",
       "      <td>Trees and Sidewalks Program</td>\n",
       "      <td>18 BROOKLYN</td>\n",
       "      <td>BROOKLYN</td>\n",
       "      <td>40.625004</td>\n",
       "      <td>-73.920726</td>\n",
       "    </tr>\n",
       "    <tr>\n",
       "      <th>3</th>\n",
       "      <td>Illegal Parking</td>\n",
       "      <td>Blocked Hydrant</td>\n",
       "      <td>12 BROOKLYN</td>\n",
       "      <td>BROOKLYN</td>\n",
       "      <td>40.634522</td>\n",
       "      <td>-73.974790</td>\n",
       "    </tr>\n",
       "    <tr>\n",
       "      <th>4</th>\n",
       "      <td>Benefit Card Replacement</td>\n",
       "      <td>Medicaid</td>\n",
       "      <td>0 Unspecified</td>\n",
       "      <td>Unspecified</td>\n",
       "      <td>NaN</td>\n",
       "      <td>NaN</td>\n",
       "    </tr>\n",
       "  </tbody>\n",
       "</table>\n",
       "</div>"
      ],
      "text/plain": [
       "                  Complaint Type                   Descriptor Community Board  \\\n",
       "0               Street Condition                      Pothole     13 BROOKLYN   \n",
       "1          Opinion for the Mayor                      HOUSING   0 Unspecified   \n",
       "2  Root/Sewer/Sidewalk Condition  Trees and Sidewalks Program     18 BROOKLYN   \n",
       "3                Illegal Parking              Blocked Hydrant     12 BROOKLYN   \n",
       "4       Benefit Card Replacement                     Medicaid   0 Unspecified   \n",
       "\n",
       "       Borough   Latitude  Longitude  \n",
       "0     BROOKLYN  40.573431 -73.991742  \n",
       "1  Unspecified        NaN        NaN  \n",
       "2     BROOKLYN  40.625004 -73.920726  \n",
       "3     BROOKLYN  40.634522 -73.974790  \n",
       "4  Unspecified        NaN        NaN  "
      ]
     },
     "execution_count": 49,
     "metadata": {},
     "output_type": "execute_result"
    }
   ],
   "source": [
    "comdistdata.head()"
   ]
  },
  {
   "cell_type": "code",
   "execution_count": 50,
   "metadata": {
    "collapsed": false
   },
   "outputs": [
    {
     "data": {
      "text/plain": [
       "77"
      ]
     },
     "execution_count": 50,
     "metadata": {},
     "output_type": "execute_result"
    }
   ],
   "source": [
    "len(comdistdata['Community Board'].unique())"
   ]
  },
  {
   "cell_type": "code",
   "execution_count": 51,
   "metadata": {
    "collapsed": false
   },
   "outputs": [
    {
     "data": {
      "text/plain": [
       "array(['13 BROOKLYN', '0 Unspecified', '18 BROOKLYN', '12 BROOKLYN',\n",
       "       '02 STATEN ISLAND', '08 MANHATTAN', '06 BROOKLYN', '10 BRONX',\n",
       "       '06 MANHATTAN', '04 BROOKLYN', '04 QUEENS', '09 MANHATTAN',\n",
       "       '14 BROOKLYN', '05 MANHATTAN', '02 MANHATTAN', '10 QUEENS',\n",
       "       '07 QUEENS', '02 QUEENS', '11 BROOKLYN', '05 QUEENS', '05 BROOKLYN',\n",
       "       '09 QUEENS', '12 MANHATTAN', '01 BROOKLYN', '11 MANHATTAN',\n",
       "       '03 BRONX', '03 STATEN ISLAND', '08 BROOKLYN', '03 BROOKLYN',\n",
       "       '07 MANHATTAN', '10 MANHATTAN', '04 BRONX', '01 MANHATTAN',\n",
       "       '07 BRONX', '09 BRONX', '03 MANHATTAN', '13 QUEENS', '02 BRONX',\n",
       "       '12 QUEENS', '16 BROOKLYN', '08 QUEENS', '04 MANHATTAN',\n",
       "       '14 QUEENS', '10 BROOKLYN', '11 QUEENS', '06 BRONX', '08 BRONX',\n",
       "       '05 BRONX', '15 BROOKLYN', '02 BROOKLYN', '12 BRONX', '03 QUEENS',\n",
       "       '06 QUEENS', '01 STATEN ISLAND', '01 BRONX', '01 QUEENS',\n",
       "       '17 BROOKLYN', '11 BRONX', 'Unspecified QUEENS', '09 BROOKLYN',\n",
       "       'Unspecified MANHATTAN', 'Unspecified BROOKLYN', '07 BROOKLYN',\n",
       "       'Unspecified BRONX', '64 MANHATTAN', '81 QUEENS', '55 BROOKLYN',\n",
       "       '83 QUEENS', 'Unspecified STATEN ISLAND', '28 BRONX', '80 QUEENS',\n",
       "       '26 BRONX', '95 STATEN ISLAND', '82 QUEENS', '27 BRONX',\n",
       "       '56 BROOKLYN', '84 QUEENS'], dtype=object)"
      ]
     },
     "execution_count": 51,
     "metadata": {},
     "output_type": "execute_result"
    }
   ],
   "source": [
    "comdistdata['Community Board'].unique()"
   ]
  },
  {
   "cell_type": "markdown",
   "metadata": {},
   "source": [
    "# All B/C represented? There are 77 unique values, of which 6 are \"Unspecified\" (one for each of the boroughs and one general).  Why so many?"
   ]
  },
  {
   "cell_type": "code",
   "execution_count": 52,
   "metadata": {
    "collapsed": false
   },
   "outputs": [
    {
     "data": {
      "text/plain": [
       "10187766"
      ]
     },
     "execution_count": 52,
     "metadata": {},
     "output_type": "execute_result"
    }
   ],
   "source": [
    "len(comdistdata)"
   ]
  },
  {
   "cell_type": "code",
   "execution_count": 53,
   "metadata": {
    "collapsed": false
   },
   "outputs": [
    {
     "data": {
      "text/plain": [
       "(4463875, 6)"
      ]
     },
     "execution_count": 53,
     "metadata": {},
     "output_type": "execute_result"
    }
   ],
   "source": [
    "comdistdata.drop_duplicates().shape"
   ]
  },
  {
   "cell_type": "markdown",
   "metadata": {},
   "source": [
    "# After dropping duplicates, we are left with a significantly smaller data set.  This is plausible, since this would account for unique callers calling multiple times."
   ]
  },
  {
   "cell_type": "code",
   "execution_count": 54,
   "metadata": {
    "collapsed": false
   },
   "outputs": [
    {
     "data": {
      "text/plain": [
       "77"
      ]
     },
     "execution_count": 54,
     "metadata": {},
     "output_type": "execute_result"
    }
   ],
   "source": [
    "len(comdistdata['Community Board'].unique())"
   ]
  },
  {
   "cell_type": "code",
   "execution_count": 55,
   "metadata": {
    "collapsed": false
   },
   "outputs": [
    {
     "data": {
      "text/plain": [
       "array(['13 BROOKLYN', '0 Unspecified', '18 BROOKLYN', '12 BROOKLYN',\n",
       "       '02 STATEN ISLAND', '08 MANHATTAN', '06 BROOKLYN', '10 BRONX',\n",
       "       '06 MANHATTAN', '04 BROOKLYN', '04 QUEENS', '09 MANHATTAN',\n",
       "       '14 BROOKLYN', '05 MANHATTAN', '02 MANHATTAN', '10 QUEENS',\n",
       "       '07 QUEENS', '02 QUEENS', '11 BROOKLYN', '05 QUEENS', '05 BROOKLYN',\n",
       "       '09 QUEENS', '12 MANHATTAN', '01 BROOKLYN', '11 MANHATTAN',\n",
       "       '03 BRONX', '03 STATEN ISLAND', '08 BROOKLYN', '03 BROOKLYN',\n",
       "       '07 MANHATTAN', '10 MANHATTAN', '04 BRONX', '01 MANHATTAN',\n",
       "       '07 BRONX', '09 BRONX', '03 MANHATTAN', '13 QUEENS', '02 BRONX',\n",
       "       '12 QUEENS', '16 BROOKLYN', '08 QUEENS', '04 MANHATTAN',\n",
       "       '14 QUEENS', '10 BROOKLYN', '11 QUEENS', '06 BRONX', '08 BRONX',\n",
       "       '05 BRONX', '15 BROOKLYN', '02 BROOKLYN', '12 BRONX', '03 QUEENS',\n",
       "       '06 QUEENS', '01 STATEN ISLAND', '01 BRONX', '01 QUEENS',\n",
       "       '17 BROOKLYN', '11 BRONX', 'Unspecified QUEENS', '09 BROOKLYN',\n",
       "       'Unspecified MANHATTAN', 'Unspecified BROOKLYN', '07 BROOKLYN',\n",
       "       'Unspecified BRONX', '64 MANHATTAN', '81 QUEENS', '55 BROOKLYN',\n",
       "       '83 QUEENS', 'Unspecified STATEN ISLAND', '28 BRONX', '80 QUEENS',\n",
       "       '26 BRONX', '95 STATEN ISLAND', '82 QUEENS', '27 BRONX',\n",
       "       '56 BROOKLYN', '84 QUEENS'], dtype=object)"
      ]
     },
     "execution_count": 55,
     "metadata": {},
     "output_type": "execute_result"
    }
   ],
   "source": [
    "comdistdata['Community Board'].unique()"
   ]
  },
  {
   "cell_type": "code",
   "execution_count": 56,
   "metadata": {
    "collapsed": false
   },
   "outputs": [
    {
     "data": {
      "text/plain": [
       "Complaint Type          0\n",
       "Descriptor          31057\n",
       "Community Board         0\n",
       "Borough                 0\n",
       "Latitude           878752\n",
       "Longitude          878752\n",
       "dtype: int64"
      ]
     },
     "execution_count": 56,
     "metadata": {},
     "output_type": "execute_result"
    }
   ],
   "source": [
    "comdistdata.isnull().sum()"
   ]
  },
  {
   "cell_type": "markdown",
   "metadata": {},
   "source": [
    "# There are missing values present in the Descriptor, Latitude, and Longitude fields.  It is reasonable that Complaint Type, CD, and Borough are all consistently filled out, as these constitute the basic indicators for any call.  Descriptor requires classification and Lat/Long require pinpointing the specific call."
   ]
  },
  {
   "cell_type": "markdown",
   "metadata": {},
   "source": [
    "# Implausible community districts include any including the word \"Unspecified\" as well as any with number greater than 18 (Brooklyn has the most CDs, with 18)."
   ]
  },
  {
   "cell_type": "code",
   "execution_count": 57,
   "metadata": {
    "collapsed": true
   },
   "outputs": [],
   "source": [
    "def comdistflag(data):\n",
    "    '''\n",
    "    This function performs a search that returns a value of 0 if either \"Unspecified\" or a number > 18 appear in the data.\n",
    "    Otherwise, it returns a value of 1.\n",
    "    '''\n",
    "    if re.search(r\"Unspecified\", data):\n",
    "        return 0\n",
    "    elif int(re.search(r\"(\\d\\d*)\\s\\w+\", data).group(1))>18:\n",
    "        return 0\n",
    "    else:\n",
    "        return 1"
   ]
  },
  {
   "cell_type": "code",
   "execution_count": 58,
   "metadata": {
    "collapsed": false
   },
   "outputs": [],
   "source": [
    "mask = comdistdata['Community Board'].apply(comdistflag)"
   ]
  },
  {
   "cell_type": "code",
   "execution_count": 59,
   "metadata": {
    "collapsed": true
   },
   "outputs": [],
   "source": [
    "comdistdata[\"masks\"] = mask"
   ]
  },
  {
   "cell_type": "code",
   "execution_count": 60,
   "metadata": {
    "collapsed": true
   },
   "outputs": [],
   "source": [
    "comdistdata_red = comdistdata[comdistdata.masks==1]"
   ]
  },
  {
   "cell_type": "code",
   "execution_count": 61,
   "metadata": {
    "collapsed": false
   },
   "outputs": [
    {
     "data": {
      "text/plain": [
       "(59,)"
      ]
     },
     "execution_count": 61,
     "metadata": {},
     "output_type": "execute_result"
    }
   ],
   "source": [
    "comdistdata_red['Community Board'].unique().shape"
   ]
  },
  {
   "cell_type": "markdown",
   "metadata": {},
   "source": [
    "# The function successfully reduced the number of CDs down to 59 (the right total)."
   ]
  },
  {
   "cell_type": "code",
   "execution_count": 62,
   "metadata": {
    "collapsed": false
   },
   "outputs": [],
   "source": [
    "cdd_r_sorted = comdistdata_red['Complaint Type'].groupby(comdistdata_red['Community Board']).count()"
   ]
  },
  {
   "cell_type": "code",
   "execution_count": 63,
   "metadata": {
    "collapsed": true
   },
   "outputs": [],
   "source": [
    "cdd_r_sorted = pd.DataFrame(cdd_r_sorted)"
   ]
  },
  {
   "cell_type": "code",
   "execution_count": 64,
   "metadata": {
    "collapsed": false
   },
   "outputs": [
    {
     "name": "stderr",
     "output_type": "stream",
     "text": [
      "/opt/rh/anaconda/root/envs/PUI2016_Python3/lib/python3.5/site-packages/ipykernel/__main__.py:1: FutureWarning: sort(columns=....) is deprecated, use sort_values(by=.....)\n",
      "  if __name__ == '__main__':\n"
     ]
    }
   ],
   "source": [
    "cddsorted = cdd_r_sorted.reset_index().sort(columns=['Complaint Type'], ascending=False).reset_index(drop=True)"
   ]
  },
  {
   "cell_type": "code",
   "execution_count": 65,
   "metadata": {
    "collapsed": true
   },
   "outputs": [],
   "source": [
    "cddsorted = cddsorted.rename(columns = {'Complaint Type':'counts'})"
   ]
  },
  {
   "cell_type": "code",
   "execution_count": 66,
   "metadata": {
    "collapsed": false
   },
   "outputs": [
    {
     "data": {
      "text/html": [
       "<div>\n",
       "<table border=\"1\" class=\"dataframe\">\n",
       "  <thead>\n",
       "    <tr style=\"text-align: right;\">\n",
       "      <th></th>\n",
       "      <th>Community Board</th>\n",
       "      <th>counts</th>\n",
       "    </tr>\n",
       "  </thead>\n",
       "  <tbody>\n",
       "    <tr>\n",
       "      <th>0</th>\n",
       "      <td>12 MANHATTAN</td>\n",
       "      <td>268053</td>\n",
       "    </tr>\n",
       "    <tr>\n",
       "      <th>1</th>\n",
       "      <td>12 QUEENS</td>\n",
       "      <td>229383</td>\n",
       "    </tr>\n",
       "    <tr>\n",
       "      <th>2</th>\n",
       "      <td>03 BROOKLYN</td>\n",
       "      <td>197306</td>\n",
       "    </tr>\n",
       "    <tr>\n",
       "      <th>3</th>\n",
       "      <td>07 QUEENS</td>\n",
       "      <td>195961</td>\n",
       "    </tr>\n",
       "    <tr>\n",
       "      <th>4</th>\n",
       "      <td>17 BROOKLYN</td>\n",
       "      <td>191720</td>\n",
       "    </tr>\n",
       "  </tbody>\n",
       "</table>\n",
       "</div>"
      ],
      "text/plain": [
       "  Community Board  counts\n",
       "0    12 MANHATTAN  268053\n",
       "1       12 QUEENS  229383\n",
       "2     03 BROOKLYN  197306\n",
       "3       07 QUEENS  195961\n",
       "4     17 BROOKLYN  191720"
      ]
     },
     "execution_count": 66,
     "metadata": {},
     "output_type": "execute_result"
    }
   ],
   "source": [
    "cddsorted.head()"
   ]
  },
  {
   "cell_type": "markdown",
   "metadata": {},
   "source": [
    "# This table shows the rankings of CDs based on the total count of 311 calls.  Without further analysis into the complaint type, however, we cannot draw any meaningful conclusions other than by quantity."
   ]
  },
  {
   "cell_type": "code",
   "execution_count": 67,
   "metadata": {
    "collapsed": true
   },
   "outputs": [],
   "source": [
    "df_demog = pd.read_csv(PUIdata + \"/Final_Demographics.csv\")"
   ]
  },
  {
   "cell_type": "code",
   "execution_count": 68,
   "metadata": {
    "collapsed": false
   },
   "outputs": [
    {
     "data": {
      "text/html": [
       "<div>\n",
       "<table border=\"1\" class=\"dataframe\">\n",
       "  <thead>\n",
       "    <tr style=\"text-align: right;\">\n",
       "      <th></th>\n",
       "      <th>FIPS</th>\n",
       "      <th>cd_id</th>\n",
       "      <th>Total Population</th>\n",
       "      <th>Population Density (per sq. mile)</th>\n",
       "      <th>% Total Population: Male</th>\n",
       "      <th>% Total Population: 18 to 24 Years</th>\n",
       "      <th>% Total Population: 25 to 34 Years</th>\n",
       "      <th>% Total Population: 35 to 44 Years</th>\n",
       "      <th>% Population 5 Years And Over: Speak Only English</th>\n",
       "      <th>% Population 5 Years And Over: Spanish or Spanish Creole</th>\n",
       "      <th>...</th>\n",
       "      <th>Employed Civilian Population 16 Years And Over: Production, transportation, and material moving  occupations: Production occupations</th>\n",
       "      <th>Employed Civilian Population 16 Years And Over: Production, transportation, and material moving  occupations: Transportation and material moving occupations</th>\n",
       "      <th>% Employed Civilian Population 16 Years And Over: Management, professional, and related occupations</th>\n",
       "      <th>% Employed Civilian Population 16 Years And Over: Service occupations</th>\n",
       "      <th>% Employed Civilian Population 16 Years And Over: Sales and office occupations</th>\n",
       "      <th>% Employed Civilian Population 16 Years And Over: Farming, fishing, and forestry occupations</th>\n",
       "      <th>% Employed Civilian Population 16 Years And Over: Construction, extraction, and maintenance  occupations</th>\n",
       "      <th>% Employed Civilian Population 16 Years And Over: Production, transportation, and material moving  occupations</th>\n",
       "      <th>% Employed Civilian Population 16 Years And Over: Production, transportation, and material moving  occupations: Production occupations</th>\n",
       "      <th>% Employed Civilian Population 16 Years And Over: Production, transportation, and material moving  occupations: Transportation and material moving occupations</th>\n",
       "    </tr>\n",
       "  </thead>\n",
       "  <tbody>\n",
       "    <tr>\n",
       "      <th>0</th>\n",
       "      <td>3603701</td>\n",
       "      <td>BX08</td>\n",
       "      <td>106737</td>\n",
       "      <td>31229.95006</td>\n",
       "      <td>46.65</td>\n",
       "      <td>10.73</td>\n",
       "      <td>15.04</td>\n",
       "      <td>11.32</td>\n",
       "      <td>46.80</td>\n",
       "      <td>39.24</td>\n",
       "      <td>...</td>\n",
       "      <td>665</td>\n",
       "      <td>1518</td>\n",
       "      <td>42.66</td>\n",
       "      <td>28.95</td>\n",
       "      <td>20.89</td>\n",
       "      <td>0.24</td>\n",
       "      <td>2.65</td>\n",
       "      <td>4.60</td>\n",
       "      <td>1.40</td>\n",
       "      <td>3.20</td>\n",
       "    </tr>\n",
       "    <tr>\n",
       "      <th>1</th>\n",
       "      <td>3603702</td>\n",
       "      <td>BX12</td>\n",
       "      <td>134644</td>\n",
       "      <td>19966.67839</td>\n",
       "      <td>46.35</td>\n",
       "      <td>11.35</td>\n",
       "      <td>14.29</td>\n",
       "      <td>12.57</td>\n",
       "      <td>73.09</td>\n",
       "      <td>18.19</td>\n",
       "      <td>...</td>\n",
       "      <td>1156</td>\n",
       "      <td>4174</td>\n",
       "      <td>29.57</td>\n",
       "      <td>33.98</td>\n",
       "      <td>20.40</td>\n",
       "      <td>0.00</td>\n",
       "      <td>7.08</td>\n",
       "      <td>8.97</td>\n",
       "      <td>1.95</td>\n",
       "      <td>7.02</td>\n",
       "    </tr>\n",
       "    <tr>\n",
       "      <th>2</th>\n",
       "      <td>3603703</td>\n",
       "      <td>BX10</td>\n",
       "      <td>121209</td>\n",
       "      <td>12913.81703</td>\n",
       "      <td>45.20</td>\n",
       "      <td>8.62</td>\n",
       "      <td>13.74</td>\n",
       "      <td>12.78</td>\n",
       "      <td>61.79</td>\n",
       "      <td>26.43</td>\n",
       "      <td>...</td>\n",
       "      <td>941</td>\n",
       "      <td>3433</td>\n",
       "      <td>36.20</td>\n",
       "      <td>22.85</td>\n",
       "      <td>25.09</td>\n",
       "      <td>0.00</td>\n",
       "      <td>7.68</td>\n",
       "      <td>8.18</td>\n",
       "      <td>1.76</td>\n",
       "      <td>6.42</td>\n",
       "    </tr>\n",
       "    <tr>\n",
       "      <th>3</th>\n",
       "      <td>3603704</td>\n",
       "      <td>BX11</td>\n",
       "      <td>135839</td>\n",
       "      <td>35677.95453</td>\n",
       "      <td>50.09</td>\n",
       "      <td>8.10</td>\n",
       "      <td>17.43</td>\n",
       "      <td>14.09</td>\n",
       "      <td>43.22</td>\n",
       "      <td>36.45</td>\n",
       "      <td>...</td>\n",
       "      <td>2189</td>\n",
       "      <td>5592</td>\n",
       "      <td>30.06</td>\n",
       "      <td>27.86</td>\n",
       "      <td>22.24</td>\n",
       "      <td>0.00</td>\n",
       "      <td>7.03</td>\n",
       "      <td>12.81</td>\n",
       "      <td>3.60</td>\n",
       "      <td>9.20</td>\n",
       "    </tr>\n",
       "    <tr>\n",
       "      <th>4</th>\n",
       "      <td>3603705</td>\n",
       "      <td>BX03</td>\n",
       "      <td>172247</td>\n",
       "      <td>39405.79222</td>\n",
       "      <td>44.72</td>\n",
       "      <td>14.24</td>\n",
       "      <td>14.89</td>\n",
       "      <td>12.38</td>\n",
       "      <td>36.82</td>\n",
       "      <td>54.24</td>\n",
       "      <td>...</td>\n",
       "      <td>1437</td>\n",
       "      <td>5436</td>\n",
       "      <td>16.80</td>\n",
       "      <td>41.00</td>\n",
       "      <td>22.29</td>\n",
       "      <td>0.03</td>\n",
       "      <td>8.45</td>\n",
       "      <td>11.43</td>\n",
       "      <td>2.39</td>\n",
       "      <td>9.04</td>\n",
       "    </tr>\n",
       "  </tbody>\n",
       "</table>\n",
       "<p>5 rows × 158 columns</p>\n",
       "</div>"
      ],
      "text/plain": [
       "      FIPS cd_id  Total Population  Population Density (per sq. mile)  \\\n",
       "0  3603701  BX08            106737                        31229.95006   \n",
       "1  3603702  BX12            134644                        19966.67839   \n",
       "2  3603703  BX10            121209                        12913.81703   \n",
       "3  3603704  BX11            135839                        35677.95453   \n",
       "4  3603705  BX03            172247                        39405.79222   \n",
       "\n",
       "   % Total Population: Male  % Total Population: 18 to 24 Years  \\\n",
       "0                     46.65                               10.73   \n",
       "1                     46.35                               11.35   \n",
       "2                     45.20                                8.62   \n",
       "3                     50.09                                8.10   \n",
       "4                     44.72                               14.24   \n",
       "\n",
       "   % Total Population: 25 to 34 Years  % Total Population: 35 to 44 Years  \\\n",
       "0                               15.04                               11.32   \n",
       "1                               14.29                               12.57   \n",
       "2                               13.74                               12.78   \n",
       "3                               17.43                               14.09   \n",
       "4                               14.89                               12.38   \n",
       "\n",
       "   % Population 5 Years And Over: Speak Only English  \\\n",
       "0                                              46.80   \n",
       "1                                              73.09   \n",
       "2                                              61.79   \n",
       "3                                              43.22   \n",
       "4                                              36.82   \n",
       "\n",
       "   % Population 5 Years And Over: Spanish or Spanish Creole  \\\n",
       "0                                              39.24          \n",
       "1                                              18.19          \n",
       "2                                              26.43          \n",
       "3                                              36.45          \n",
       "4                                              54.24          \n",
       "\n",
       "                                                                                ...                                                                                \\\n",
       "0                                                                               ...                                                                                 \n",
       "1                                                                               ...                                                                                 \n",
       "2                                                                               ...                                                                                 \n",
       "3                                                                               ...                                                                                 \n",
       "4                                                                               ...                                                                                 \n",
       "\n",
       "   Employed Civilian Population 16 Years And Over: Production, transportation, and material moving  occupations: Production occupations  \\\n",
       "0                                                665                                                                                      \n",
       "1                                               1156                                                                                      \n",
       "2                                                941                                                                                      \n",
       "3                                               2189                                                                                      \n",
       "4                                               1437                                                                                      \n",
       "\n",
       "   Employed Civilian Population 16 Years And Over: Production, transportation, and material moving  occupations: Transportation and material moving occupations  \\\n",
       "0                                               1518                                                                                                              \n",
       "1                                               4174                                                                                                              \n",
       "2                                               3433                                                                                                              \n",
       "3                                               5592                                                                                                              \n",
       "4                                               5436                                                                                                              \n",
       "\n",
       "   % Employed Civilian Population 16 Years And Over: Management, professional, and related occupations  \\\n",
       "0                                              42.66                                                     \n",
       "1                                              29.57                                                     \n",
       "2                                              36.20                                                     \n",
       "3                                              30.06                                                     \n",
       "4                                              16.80                                                     \n",
       "\n",
       "   % Employed Civilian Population 16 Years And Over: Service occupations  \\\n",
       "0                                              28.95                       \n",
       "1                                              33.98                       \n",
       "2                                              22.85                       \n",
       "3                                              27.86                       \n",
       "4                                              41.00                       \n",
       "\n",
       "   % Employed Civilian Population 16 Years And Over: Sales and office occupations  \\\n",
       "0                                              20.89                                \n",
       "1                                              20.40                                \n",
       "2                                              25.09                                \n",
       "3                                              22.24                                \n",
       "4                                              22.29                                \n",
       "\n",
       "   % Employed Civilian Population 16 Years And Over: Farming, fishing, and forestry occupations  \\\n",
       "0                                               0.24                                              \n",
       "1                                               0.00                                              \n",
       "2                                               0.00                                              \n",
       "3                                               0.00                                              \n",
       "4                                               0.03                                              \n",
       "\n",
       "   % Employed Civilian Population 16 Years And Over: Construction, extraction, and maintenance  occupations  \\\n",
       "0                                               2.65                                                          \n",
       "1                                               7.08                                                          \n",
       "2                                               7.68                                                          \n",
       "3                                               7.03                                                          \n",
       "4                                               8.45                                                          \n",
       "\n",
       "   % Employed Civilian Population 16 Years And Over: Production, transportation, and material moving  occupations  \\\n",
       "0                                               4.60                                                                \n",
       "1                                               8.97                                                                \n",
       "2                                               8.18                                                                \n",
       "3                                              12.81                                                                \n",
       "4                                              11.43                                                                \n",
       "\n",
       "   % Employed Civilian Population 16 Years And Over: Production, transportation, and material moving  occupations: Production occupations  \\\n",
       "0                                               1.40                                                                                        \n",
       "1                                               1.95                                                                                        \n",
       "2                                               1.76                                                                                        \n",
       "3                                               3.60                                                                                        \n",
       "4                                               2.39                                                                                        \n",
       "\n",
       "   % Employed Civilian Population 16 Years And Over: Production, transportation, and material moving  occupations: Transportation and material moving occupations  \n",
       "0                                               3.20                                                                                                               \n",
       "1                                               7.02                                                                                                               \n",
       "2                                               6.42                                                                                                               \n",
       "3                                               9.20                                                                                                               \n",
       "4                                               9.04                                                                                                               \n",
       "\n",
       "[5 rows x 158 columns]"
      ]
     },
     "execution_count": 68,
     "metadata": {},
     "output_type": "execute_result"
    }
   ],
   "source": [
    "df_demog.head()"
   ]
  },
  {
   "cell_type": "code",
   "execution_count": 69,
   "metadata": {
    "collapsed": false
   },
   "outputs": [
    {
     "data": {
      "text/plain": [
       "(59,)"
      ]
     },
     "execution_count": 69,
     "metadata": {},
     "output_type": "execute_result"
    }
   ],
   "source": [
    "df_demog['cd_id'].unique().shape"
   ]
  },
  {
   "cell_type": "markdown",
   "metadata": {},
   "source": [
    "# There are 59 CD's in the demographics data."
   ]
  },
  {
   "cell_type": "code",
   "execution_count": 70,
   "metadata": {
    "collapsed": false
   },
   "outputs": [
    {
     "data": {
      "text/plain": [
       "Index(['FIPS', 'cd_id', 'Total Population',\n",
       "       'Population Density (per sq. mile)', '% Total Population: Male',\n",
       "       '% Total Population: 18 to 24 Years',\n",
       "       '% Total Population: 25 to 34 Years',\n",
       "       '% Total Population: 35 to 44 Years',\n",
       "       '% Population 5 Years And Over: Speak Only English',\n",
       "       '% Population 5 Years And Over: Spanish or Spanish Creole',\n",
       "       ...\n",
       "       'Employed Civilian Population 16 Years And Over: Production, transportation, and material moving  occupations: Production occupations',\n",
       "       'Employed Civilian Population 16 Years And Over: Production, transportation, and material moving  occupations: Transportation and material moving occupations',\n",
       "       '% Employed Civilian Population 16 Years And Over: Management, professional, and related occupations',\n",
       "       '% Employed Civilian Population 16 Years And Over: Service occupations',\n",
       "       '% Employed Civilian Population 16 Years And Over: Sales and office occupations',\n",
       "       '% Employed Civilian Population 16 Years And Over: Farming, fishing, and forestry occupations',\n",
       "       '% Employed Civilian Population 16 Years And Over: Construction, extraction, and maintenance  occupations',\n",
       "       '% Employed Civilian Population 16 Years And Over: Production, transportation, and material moving  occupations',\n",
       "       '% Employed Civilian Population 16 Years And Over: Production, transportation, and material moving  occupations: Production occupations',\n",
       "       '% Employed Civilian Population 16 Years And Over: Production, transportation, and material moving  occupations: Transportation and material moving occupations'],\n",
       "      dtype='object', length=158)"
      ]
     },
     "execution_count": 70,
     "metadata": {},
     "output_type": "execute_result"
    }
   ],
   "source": [
    "df_demog.columns"
   ]
  },
  {
   "cell_type": "code",
   "execution_count": 71,
   "metadata": {
    "collapsed": true
   },
   "outputs": [],
   "source": [
    "density = df_demog[['cd_id', 'Population Density (per sq. mile)']]"
   ]
  },
  {
   "cell_type": "code",
   "execution_count": 72,
   "metadata": {
    "collapsed": false
   },
   "outputs": [
    {
     "data": {
      "text/html": [
       "<div>\n",
       "<table border=\"1\" class=\"dataframe\">\n",
       "  <thead>\n",
       "    <tr style=\"text-align: right;\">\n",
       "      <th></th>\n",
       "      <th>cd_id</th>\n",
       "      <th>Population Density (per sq. mile)</th>\n",
       "    </tr>\n",
       "  </thead>\n",
       "  <tbody>\n",
       "    <tr>\n",
       "      <th>0</th>\n",
       "      <td>BX08</td>\n",
       "      <td>31229.95006</td>\n",
       "    </tr>\n",
       "    <tr>\n",
       "      <th>1</th>\n",
       "      <td>BX12</td>\n",
       "      <td>19966.67839</td>\n",
       "    </tr>\n",
       "    <tr>\n",
       "      <th>2</th>\n",
       "      <td>BX10</td>\n",
       "      <td>12913.81703</td>\n",
       "    </tr>\n",
       "    <tr>\n",
       "      <th>3</th>\n",
       "      <td>BX11</td>\n",
       "      <td>35677.95453</td>\n",
       "    </tr>\n",
       "    <tr>\n",
       "      <th>4</th>\n",
       "      <td>BX03</td>\n",
       "      <td>39405.79222</td>\n",
       "    </tr>\n",
       "  </tbody>\n",
       "</table>\n",
       "</div>"
      ],
      "text/plain": [
       "  cd_id  Population Density (per sq. mile)\n",
       "0  BX08                        31229.95006\n",
       "1  BX12                        19966.67839\n",
       "2  BX10                        12913.81703\n",
       "3  BX11                        35677.95453\n",
       "4  BX03                        39405.79222"
      ]
     },
     "execution_count": 72,
     "metadata": {},
     "output_type": "execute_result"
    }
   ],
   "source": [
    "density.head()"
   ]
  },
  {
   "cell_type": "markdown",
   "metadata": {},
   "source": [
    "# I focused on the population density by CD.  We can cross-reference the population density (by CD) with the number of complaint calls - it would make sense that we receive more complaint calls in districts with a denser population."
   ]
  },
  {
   "cell_type": "code",
   "execution_count": 73,
   "metadata": {
    "collapsed": false
   },
   "outputs": [],
   "source": [
    "df_infr = pd.read_csv(PUIdata + \"/ACS_Computer_Use_and_Internet_2014_1Year_Estimate.csv\")"
   ]
  },
  {
   "cell_type": "code",
   "execution_count": 74,
   "metadata": {
    "collapsed": false
   },
   "outputs": [
    {
     "data": {
      "text/html": [
       "<div>\n",
       "<table border=\"1\" class=\"dataframe\">\n",
       "  <thead>\n",
       "    <tr style=\"text-align: right;\">\n",
       "      <th></th>\n",
       "      <th>FIPS</th>\n",
       "      <th>Geographic Identifier</th>\n",
       "      <th>Qualifying Name</th>\n",
       "      <th>Households</th>\n",
       "      <th>Households: With An Internet Subscription</th>\n",
       "      <th>Households: Dial-Up Alone</th>\n",
       "      <th>Households: Dsl</th>\n",
       "      <th>Households: With Mobile Broadband</th>\n",
       "      <th>Households: Without Mobile Broadband</th>\n",
       "      <th>Households: Cable Modem</th>\n",
       "      <th>...</th>\n",
       "      <th>Households: Mobile Broadband Alone or With Dialup</th>\n",
       "      <th>Households: Internet Access Without A Subscription</th>\n",
       "      <th>Households: No Internet Access</th>\n",
       "      <th>% Households: With An Internet Subscription</th>\n",
       "      <th>Households.1</th>\n",
       "      <th>Households: Has A Computer</th>\n",
       "      <th>Households: With Dial-Up Internet Subscription Alone</th>\n",
       "      <th>Households: With A Broadband Internet Subscription</th>\n",
       "      <th>Households: Without An Internet Subscription</th>\n",
       "      <th>Households: No Computer</th>\n",
       "    </tr>\n",
       "  </thead>\n",
       "  <tbody>\n",
       "    <tr>\n",
       "      <th>0</th>\n",
       "      <td>3603701</td>\n",
       "      <td>79500US3603701</td>\n",
       "      <td>NYC-Bronx Community District 8--Riverdale, New...</td>\n",
       "      <td>42035</td>\n",
       "      <td>31795</td>\n",
       "      <td>444</td>\n",
       "      <td>2813</td>\n",
       "      <td>946</td>\n",
       "      <td>1867</td>\n",
       "      <td>19178</td>\n",
       "      <td>...</td>\n",
       "      <td>2168</td>\n",
       "      <td>2119</td>\n",
       "      <td>8121</td>\n",
       "      <td>75.64</td>\n",
       "      <td>42035</td>\n",
       "      <td>35048</td>\n",
       "      <td>404</td>\n",
       "      <td>30943</td>\n",
       "      <td>3701</td>\n",
       "      <td>6987</td>\n",
       "    </tr>\n",
       "    <tr>\n",
       "      <th>1</th>\n",
       "      <td>3603702</td>\n",
       "      <td>79500US3603702</td>\n",
       "      <td>NYC-Bronx Community District 12--Wakefield, Ne...</td>\n",
       "      <td>44830</td>\n",
       "      <td>32243</td>\n",
       "      <td>178</td>\n",
       "      <td>849</td>\n",
       "      <td>405</td>\n",
       "      <td>444</td>\n",
       "      <td>18653</td>\n",
       "      <td>...</td>\n",
       "      <td>928</td>\n",
       "      <td>1891</td>\n",
       "      <td>10696</td>\n",
       "      <td>71.92</td>\n",
       "      <td>44830</td>\n",
       "      <td>36700</td>\n",
       "      <td>178</td>\n",
       "      <td>31435</td>\n",
       "      <td>5087</td>\n",
       "      <td>8130</td>\n",
       "    </tr>\n",
       "    <tr>\n",
       "      <th>2</th>\n",
       "      <td>3603703</td>\n",
       "      <td>79500US3603703</td>\n",
       "      <td>NYC-Bronx Community District 10--Co-op City, N...</td>\n",
       "      <td>47050</td>\n",
       "      <td>32729</td>\n",
       "      <td>158</td>\n",
       "      <td>1863</td>\n",
       "      <td>398</td>\n",
       "      <td>1465</td>\n",
       "      <td>20044</td>\n",
       "      <td>...</td>\n",
       "      <td>639</td>\n",
       "      <td>2882</td>\n",
       "      <td>11439</td>\n",
       "      <td>69.56</td>\n",
       "      <td>47050</td>\n",
       "      <td>38700</td>\n",
       "      <td>158</td>\n",
       "      <td>32333</td>\n",
       "      <td>6209</td>\n",
       "      <td>8350</td>\n",
       "    </tr>\n",
       "    <tr>\n",
       "      <th>3</th>\n",
       "      <td>3603704</td>\n",
       "      <td>79500US3603704</td>\n",
       "      <td>NYC-Bronx Community District 11--Pelham Parkwa...</td>\n",
       "      <td>44922</td>\n",
       "      <td>32003</td>\n",
       "      <td>141</td>\n",
       "      <td>1478</td>\n",
       "      <td>474</td>\n",
       "      <td>1004</td>\n",
       "      <td>17917</td>\n",
       "      <td>...</td>\n",
       "      <td>1001</td>\n",
       "      <td>2722</td>\n",
       "      <td>10197</td>\n",
       "      <td>71.24</td>\n",
       "      <td>44922</td>\n",
       "      <td>37237</td>\n",
       "      <td>122</td>\n",
       "      <td>31278</td>\n",
       "      <td>5837</td>\n",
       "      <td>7685</td>\n",
       "    </tr>\n",
       "    <tr>\n",
       "      <th>4</th>\n",
       "      <td>3603705</td>\n",
       "      <td>79500US3603705</td>\n",
       "      <td>NYC-Bronx Community District 3 &amp; 6--Belmont, N...</td>\n",
       "      <td>57556</td>\n",
       "      <td>35503</td>\n",
       "      <td>88</td>\n",
       "      <td>1297</td>\n",
       "      <td>651</td>\n",
       "      <td>646</td>\n",
       "      <td>15847</td>\n",
       "      <td>...</td>\n",
       "      <td>1385</td>\n",
       "      <td>3312</td>\n",
       "      <td>18741</td>\n",
       "      <td>61.68</td>\n",
       "      <td>57556</td>\n",
       "      <td>42576</td>\n",
       "      <td>88</td>\n",
       "      <td>33408</td>\n",
       "      <td>9080</td>\n",
       "      <td>14980</td>\n",
       "    </tr>\n",
       "  </tbody>\n",
       "</table>\n",
       "<p>5 rows × 31 columns</p>\n",
       "</div>"
      ],
      "text/plain": [
       "      FIPS Geographic Identifier  \\\n",
       "0  3603701        79500US3603701   \n",
       "1  3603702        79500US3603702   \n",
       "2  3603703        79500US3603703   \n",
       "3  3603704        79500US3603704   \n",
       "4  3603705        79500US3603705   \n",
       "\n",
       "                                     Qualifying Name  Households  \\\n",
       "0  NYC-Bronx Community District 8--Riverdale, New...       42035   \n",
       "1  NYC-Bronx Community District 12--Wakefield, Ne...       44830   \n",
       "2  NYC-Bronx Community District 10--Co-op City, N...       47050   \n",
       "3  NYC-Bronx Community District 11--Pelham Parkwa...       44922   \n",
       "4  NYC-Bronx Community District 3 & 6--Belmont, N...       57556   \n",
       "\n",
       "   Households: With An Internet Subscription  Households: Dial-Up Alone  \\\n",
       "0                                      31795                        444   \n",
       "1                                      32243                        178   \n",
       "2                                      32729                        158   \n",
       "3                                      32003                        141   \n",
       "4                                      35503                         88   \n",
       "\n",
       "   Households: Dsl  Households: With Mobile Broadband  \\\n",
       "0             2813                                946   \n",
       "1              849                                405   \n",
       "2             1863                                398   \n",
       "3             1478                                474   \n",
       "4             1297                                651   \n",
       "\n",
       "   Households: Without Mobile Broadband  Households: Cable Modem  \\\n",
       "0                                  1867                    19178   \n",
       "1                                   444                    18653   \n",
       "2                                  1465                    20044   \n",
       "3                                  1004                    17917   \n",
       "4                                   646                    15847   \n",
       "\n",
       "            ...             Households: Mobile Broadband Alone or With Dialup  \\\n",
       "0           ...                                                          2168   \n",
       "1           ...                                                           928   \n",
       "2           ...                                                           639   \n",
       "3           ...                                                          1001   \n",
       "4           ...                                                          1385   \n",
       "\n",
       "   Households: Internet Access Without A Subscription  \\\n",
       "0                                               2119    \n",
       "1                                               1891    \n",
       "2                                               2882    \n",
       "3                                               2722    \n",
       "4                                               3312    \n",
       "\n",
       "   Households: No Internet Access  \\\n",
       "0                            8121   \n",
       "1                           10696   \n",
       "2                           11439   \n",
       "3                           10197   \n",
       "4                           18741   \n",
       "\n",
       "   % Households: With An Internet Subscription  Households.1  \\\n",
       "0                                        75.64         42035   \n",
       "1                                        71.92         44830   \n",
       "2                                        69.56         47050   \n",
       "3                                        71.24         44922   \n",
       "4                                        61.68         57556   \n",
       "\n",
       "   Households: Has A Computer  \\\n",
       "0                       35048   \n",
       "1                       36700   \n",
       "2                       38700   \n",
       "3                       37237   \n",
       "4                       42576   \n",
       "\n",
       "   Households: With Dial-Up Internet Subscription Alone  \\\n",
       "0                                                404      \n",
       "1                                                178      \n",
       "2                                                158      \n",
       "3                                                122      \n",
       "4                                                 88      \n",
       "\n",
       "   Households: With A Broadband Internet Subscription  \\\n",
       "0                                              30943    \n",
       "1                                              31435    \n",
       "2                                              32333    \n",
       "3                                              31278    \n",
       "4                                              33408    \n",
       "\n",
       "   Households: Without An Internet Subscription  Households: No Computer  \n",
       "0                                          3701                     6987  \n",
       "1                                          5087                     8130  \n",
       "2                                          6209                     8350  \n",
       "3                                          5837                     7685  \n",
       "4                                          9080                    14980  \n",
       "\n",
       "[5 rows x 31 columns]"
      ]
     },
     "execution_count": 74,
     "metadata": {},
     "output_type": "execute_result"
    }
   ],
   "source": [
    "df_infr.head()"
   ]
  },
  {
   "cell_type": "code",
   "execution_count": 75,
   "metadata": {
    "collapsed": false
   },
   "outputs": [
    {
     "data": {
      "text/plain": [
       "(55,)"
      ]
     },
     "execution_count": 75,
     "metadata": {},
     "output_type": "execute_result"
    }
   ],
   "source": [
    "df_infr['Qualifying Name'].unique().shape"
   ]
  },
  {
   "cell_type": "markdown",
   "metadata": {},
   "source": [
    "# There are 55 CD's in the infrastructure data."
   ]
  },
  {
   "cell_type": "code",
   "execution_count": 76,
   "metadata": {
    "collapsed": false,
    "scrolled": true
   },
   "outputs": [
    {
     "data": {
      "text/plain": [
       "Index(['FIPS', 'Geographic Identifier', 'Qualifying Name', 'Households',\n",
       "       'Households: With An Internet Subscription',\n",
       "       'Households: Dial-Up Alone', 'Households: Dsl',\n",
       "       'Households: With Mobile Broadband',\n",
       "       'Households: Without Mobile Broadband', 'Households: Cable Modem',\n",
       "       'Households: With Mobile Broadband.1',\n",
       "       'Households: Without Mobile Broadband.1', 'Households: Fiber-Optic',\n",
       "       'Households: With Mobile Broadband.2',\n",
       "       'Households: Without Mobile Broadband.2',\n",
       "       'Households: Satellite Internet Service',\n",
       "       'Households: With Mobile Broadband.3',\n",
       "       'Households: Without Mobile Broadband.3',\n",
       "       'Households: Two or More Fixed Broadband Types, or Other',\n",
       "       'Households: With Mobile Broadband.4',\n",
       "       'Households: Without Mobile Broadband.4',\n",
       "       'Households: Mobile Broadband Alone or With Dialup',\n",
       "       'Households: Internet Access Without A Subscription',\n",
       "       'Households: No Internet Access',\n",
       "       '% Households: With An Internet Subscription', 'Households.1',\n",
       "       'Households: Has A Computer',\n",
       "       'Households: With Dial-Up Internet Subscription Alone',\n",
       "       'Households: With A Broadband Internet Subscription',\n",
       "       'Households: Without An Internet Subscription',\n",
       "       'Households: No Computer'],\n",
       "      dtype='object')"
      ]
     },
     "execution_count": 76,
     "metadata": {},
     "output_type": "execute_result"
    }
   ],
   "source": [
    "df_infr.columns"
   ]
  },
  {
   "cell_type": "code",
   "execution_count": 77,
   "metadata": {
    "collapsed": true
   },
   "outputs": [],
   "source": [
    "mobilebb = df_infr.iloc[:,[2, 7, 10, 13, 16, 19, 21]]"
   ]
  },
  {
   "cell_type": "code",
   "execution_count": 78,
   "metadata": {
    "collapsed": false
   },
   "outputs": [
    {
     "name": "stderr",
     "output_type": "stream",
     "text": [
      "/opt/rh/anaconda/root/envs/PUI2016_Python3/lib/python3.5/site-packages/ipykernel/__main__.py:1: SettingWithCopyWarning: \n",
      "A value is trying to be set on a copy of a slice from a DataFrame.\n",
      "Try using .loc[row_indexer,col_indexer] = value instead\n",
      "\n",
      "See the caveats in the documentation: http://pandas.pydata.org/pandas-docs/stable/indexing.html#indexing-view-versus-copy\n",
      "  if __name__ == '__main__':\n"
     ]
    }
   ],
   "source": [
    "mobilebb['Mobile Broadband'] = mobilebb.sum(axis=1)"
   ]
  },
  {
   "cell_type": "code",
   "execution_count": 79,
   "metadata": {
    "collapsed": true
   },
   "outputs": [],
   "source": [
    "nomobilebb = df_infr.iloc[:,[2, 8, 11, 14, 17, 20, 22]]"
   ]
  },
  {
   "cell_type": "code",
   "execution_count": 80,
   "metadata": {
    "collapsed": false
   },
   "outputs": [
    {
     "name": "stderr",
     "output_type": "stream",
     "text": [
      "/opt/rh/anaconda/root/envs/PUI2016_Python3/lib/python3.5/site-packages/ipykernel/__main__.py:1: SettingWithCopyWarning: \n",
      "A value is trying to be set on a copy of a slice from a DataFrame.\n",
      "Try using .loc[row_indexer,col_indexer] = value instead\n",
      "\n",
      "See the caveats in the documentation: http://pandas.pydata.org/pandas-docs/stable/indexing.html#indexing-view-versus-copy\n",
      "  if __name__ == '__main__':\n"
     ]
    }
   ],
   "source": [
    "nomobilebb['Without Mobile Broadband'] = nomobilebb.sum(axis=1)"
   ]
  },
  {
   "cell_type": "code",
   "execution_count": 81,
   "metadata": {
    "collapsed": true
   },
   "outputs": [],
   "source": [
    "mobilebb_info = pd.concat([mobilebb, nomobilebb], axis=1)"
   ]
  },
  {
   "cell_type": "code",
   "execution_count": 82,
   "metadata": {
    "collapsed": true
   },
   "outputs": [],
   "source": [
    "mobilebb_info = mobilebb_info.iloc[:,[0, 7, 15]]"
   ]
  },
  {
   "cell_type": "code",
   "execution_count": 83,
   "metadata": {
    "collapsed": false
   },
   "outputs": [
    {
     "data": {
      "text/html": [
       "<div>\n",
       "<table border=\"1\" class=\"dataframe\">\n",
       "  <thead>\n",
       "    <tr style=\"text-align: right;\">\n",
       "      <th></th>\n",
       "      <th>Qualifying Name</th>\n",
       "      <th>Mobile Broadband</th>\n",
       "      <th>Without Mobile Broadband</th>\n",
       "    </tr>\n",
       "  </thead>\n",
       "  <tbody>\n",
       "    <tr>\n",
       "      <th>0</th>\n",
       "      <td>NYC-Bronx Community District 8--Riverdale, New...</td>\n",
       "      <td>17527</td>\n",
       "      <td>15943</td>\n",
       "    </tr>\n",
       "    <tr>\n",
       "      <th>1</th>\n",
       "      <td>NYC-Bronx Community District 12--Wakefield, Ne...</td>\n",
       "      <td>11414</td>\n",
       "      <td>22542</td>\n",
       "    </tr>\n",
       "    <tr>\n",
       "      <th>2</th>\n",
       "      <td>NYC-Bronx Community District 10--Co-op City, N...</td>\n",
       "      <td>12064</td>\n",
       "      <td>23389</td>\n",
       "    </tr>\n",
       "    <tr>\n",
       "      <th>3</th>\n",
       "      <td>NYC-Bronx Community District 11--Pelham Parkwa...</td>\n",
       "      <td>11749</td>\n",
       "      <td>22835</td>\n",
       "    </tr>\n",
       "    <tr>\n",
       "      <th>4</th>\n",
       "      <td>NYC-Bronx Community District 3 &amp; 6--Belmont, N...</td>\n",
       "      <td>16292</td>\n",
       "      <td>22435</td>\n",
       "    </tr>\n",
       "  </tbody>\n",
       "</table>\n",
       "</div>"
      ],
      "text/plain": [
       "                                     Qualifying Name  Mobile Broadband  \\\n",
       "0  NYC-Bronx Community District 8--Riverdale, New...             17527   \n",
       "1  NYC-Bronx Community District 12--Wakefield, Ne...             11414   \n",
       "2  NYC-Bronx Community District 10--Co-op City, N...             12064   \n",
       "3  NYC-Bronx Community District 11--Pelham Parkwa...             11749   \n",
       "4  NYC-Bronx Community District 3 & 6--Belmont, N...             16292   \n",
       "\n",
       "   Without Mobile Broadband  \n",
       "0                     15943  \n",
       "1                     22542  \n",
       "2                     23389  \n",
       "3                     22835  \n",
       "4                     22435  "
      ]
     },
     "execution_count": 83,
     "metadata": {},
     "output_type": "execute_result"
    }
   ],
   "source": [
    "mobilebb_info.head()"
   ]
  },
  {
   "cell_type": "code",
   "execution_count": 84,
   "metadata": {
    "collapsed": false
   },
   "outputs": [
    {
     "name": "stderr",
     "output_type": "stream",
     "text": [
      "/opt/rh/anaconda/root/envs/PUI2016_Python3/lib/python3.5/site-packages/ipykernel/__main__.py:2: SettingWithCopyWarning: \n",
      "A value is trying to be set on a copy of a slice from a DataFrame.\n",
      "Try using .loc[row_indexer,col_indexer] = value instead\n",
      "\n",
      "See the caveats in the documentation: http://pandas.pydata.org/pandas-docs/stable/indexing.html#indexing-view-versus-copy\n",
      "  from ipykernel import kernelapp as app\n",
      "/opt/rh/anaconda/root/envs/PUI2016_Python3/lib/python3.5/site-packages/ipykernel/__main__.py:4: SettingWithCopyWarning: \n",
      "A value is trying to be set on a copy of a slice from a DataFrame.\n",
      "Try using .loc[row_indexer,col_indexer] = value instead\n",
      "\n",
      "See the caveats in the documentation: http://pandas.pydata.org/pandas-docs/stable/indexing.html#indexing-view-versus-copy\n"
     ]
    }
   ],
   "source": [
    "high_speed =  df_infr.iloc[:,[2, 6, 9, 12]]\n",
    "high_speed['High'] = high_speed.sum(axis=1)\n",
    "low_speed = df_infr.iloc[:, [2, 5, 15]]\n",
    "low_speed['Low'] = low_speed.sum(axis=1)\n",
    "it_info = pd.concat([high_speed, low_speed], axis=1)\n",
    "it_info = it_info.ix[:,[0, 4, 8]]"
   ]
  },
  {
   "cell_type": "code",
   "execution_count": 85,
   "metadata": {
    "collapsed": false
   },
   "outputs": [
    {
     "data": {
      "text/html": [
       "<div>\n",
       "<table border=\"1\" class=\"dataframe\">\n",
       "  <thead>\n",
       "    <tr style=\"text-align: right;\">\n",
       "      <th></th>\n",
       "      <th>Qualifying Name</th>\n",
       "      <th>High</th>\n",
       "      <th>Low</th>\n",
       "    </tr>\n",
       "  </thead>\n",
       "  <tbody>\n",
       "    <tr>\n",
       "      <th>0</th>\n",
       "      <td>NYC-Bronx Community District 8--Riverdale, New...</td>\n",
       "      <td>22930</td>\n",
       "      <td>519</td>\n",
       "    </tr>\n",
       "    <tr>\n",
       "      <th>1</th>\n",
       "      <td>NYC-Bronx Community District 12--Wakefield, Ne...</td>\n",
       "      <td>25718</td>\n",
       "      <td>309</td>\n",
       "    </tr>\n",
       "    <tr>\n",
       "      <th>2</th>\n",
       "      <td>NYC-Bronx Community District 10--Co-op City, N...</td>\n",
       "      <td>25397</td>\n",
       "      <td>158</td>\n",
       "    </tr>\n",
       "    <tr>\n",
       "      <th>3</th>\n",
       "      <td>NYC-Bronx Community District 11--Pelham Parkwa...</td>\n",
       "      <td>24830</td>\n",
       "      <td>449</td>\n",
       "    </tr>\n",
       "    <tr>\n",
       "      <th>4</th>\n",
       "      <td>NYC-Bronx Community District 3 &amp; 6--Belmont, N...</td>\n",
       "      <td>18654</td>\n",
       "      <td>282</td>\n",
       "    </tr>\n",
       "  </tbody>\n",
       "</table>\n",
       "</div>"
      ],
      "text/plain": [
       "                                     Qualifying Name   High  Low\n",
       "0  NYC-Bronx Community District 8--Riverdale, New...  22930  519\n",
       "1  NYC-Bronx Community District 12--Wakefield, Ne...  25718  309\n",
       "2  NYC-Bronx Community District 10--Co-op City, N...  25397  158\n",
       "3  NYC-Bronx Community District 11--Pelham Parkwa...  24830  449\n",
       "4  NYC-Bronx Community District 3 & 6--Belmont, N...  18654  282"
      ]
     },
     "execution_count": 85,
     "metadata": {},
     "output_type": "execute_result"
    }
   ],
   "source": [
    "it_info.head()"
   ]
  },
  {
   "cell_type": "markdown",
   "metadata": {},
   "source": [
    "# There should be a negative correlation between high broadband availability and complaint calls, as the 311 website allows for online submission of complaint requests.  We can cross-reference the CDs with the highest availability, and this should, in theory, be a reverse of the CDs by complaint calls."
   ]
  },
  {
   "cell_type": "code",
   "execution_count": 86,
   "metadata": {
    "collapsed": true
   },
   "outputs": [],
   "source": [
    "def harmonizer_1(data):\n",
    "    if re.search(r\"Bronx\", data, re.IGNORECASE):\n",
    "        return re.sub(r\"(\\d\\d)\\s.+\", r\"BX\\1\", data)\n",
    "    elif re.search(r\"Queen\", data, re.IGNORECASE):\n",
    "        return re.sub(r\"(\\d\\d)\\s.+\", r\"QN\\1\", data)\n",
    "    elif re.search(r\"STATEN ISLAND\", data, re.IGNORECASE):\n",
    "        return re.sub(r\"(\\d\\d)\\s.+\", r\"SI\\1\", data)\n",
    "    elif re.search(r\"BROOKLYN\", data, re.IGNORECASE):\n",
    "        return re.sub(r\"(\\d\\d)\\s.+\", r\"BK\\1\", data)\n",
    "    elif re.search(r\"manhattan\", data, re.IGNORECASE):\n",
    "        return re.sub(r\"(\\d\\d)\\s.+\", r\"MN\\1\", data)"
   ]
  },
  {
   "cell_type": "code",
   "execution_count": 87,
   "metadata": {
    "collapsed": true
   },
   "outputs": [],
   "source": [
    "pat1 = re.compile(r\"\\w+-\\w+\\s*\\w*\\s\\w+\\s\\w+\\s(\\d\\d)\\s*&*\\d*.*\", re.IGNORECASE)\n",
    "pat2 = re.compile(r\"\\w+-\\w+\\s*\\w*\\s\\w+\\s\\w+\\s(\\d)\\s*&*\\d*.*\", re.IGNORECASE)"
   ]
  },
  {
   "cell_type": "code",
   "execution_count": 88,
   "metadata": {
    "collapsed": true
   },
   "outputs": [],
   "source": [
    "def harmonizer_2(data):\n",
    "    if re.search(r\"Bronx\", data,re.IGNORECASE):\n",
    "        if re.search(pat1, data):\n",
    "            return re.sub(pat1, r\"BX\\1\", data)\n",
    "        else:\n",
    "            return re.sub(pat2, r\"BX0\\1\", data)\n",
    "    elif re.search(r\"Queen\", data,re.IGNORECASE):\n",
    "         if re.search(pat1, data):\n",
    "            return re.sub(pat1, r\"QN\\1\", data)\n",
    "         else:\n",
    "            return re.sub(pat2, r\"QN0\\1\", data)\n",
    "    elif re.search(r\"STATEN ISLAND\", data, re.IGNORECASE):\n",
    "         if re.search(pat1, data, ):\n",
    "            return re.sub(pat1, r\"SI\\1\", data)\n",
    "         else:\n",
    "            return re.sub(pat2, r\"SI0\\1\", data)\n",
    "    elif re.search(r\"BROOKLYN\", data, re.IGNORECASE):\n",
    "         if re.search(pat1, data):\n",
    "            return re.sub(pat1, r\"BK\\1\", data)\n",
    "         else:\n",
    "            return re.sub(pat2, r\"BK0\\1\", data)\n",
    "    elif re.search(r\"manhattan\", data, re.IGNORECASE):\n",
    "         if re.search(pat1, data):\n",
    "            return re.sub(pat1, r\"MN\\1\", data)\n",
    "         else:\n",
    "            return re.sub(pat2, r\"MN0\\1\", data)"
   ]
  },
  {
   "cell_type": "code",
   "execution_count": 89,
   "metadata": {
    "collapsed": false
   },
   "outputs": [],
   "source": [
    "demo = density.drop_duplicates(subset='Population Density (per sq. mile)')"
   ]
  },
  {
   "cell_type": "code",
   "execution_count": 90,
   "metadata": {
    "collapsed": true
   },
   "outputs": [],
   "source": [
    "demo = demo.rename(columns = {'cd_id':'district'})"
   ]
  },
  {
   "cell_type": "code",
   "execution_count": 91,
   "metadata": {
    "collapsed": false
   },
   "outputs": [
    {
     "name": "stderr",
     "output_type": "stream",
     "text": [
      "/opt/rh/anaconda/root/envs/PUI2016_Python3/lib/python3.5/site-packages/ipykernel/__main__.py:1: SettingWithCopyWarning: \n",
      "A value is trying to be set on a copy of a slice from a DataFrame\n",
      "\n",
      "See the caveats in the documentation: http://pandas.pydata.org/pandas-docs/stable/indexing.html#indexing-view-versus-copy\n",
      "  if __name__ == '__main__':\n"
     ]
    }
   ],
   "source": [
    "demo[\"district\"][demo[\"district\"]==\"MN05\"] = \"MN04\""
   ]
  },
  {
   "cell_type": "code",
   "execution_count": 92,
   "metadata": {
    "collapsed": false
   },
   "outputs": [],
   "source": [
    "first = mobilebb_info.merge(it_info, on=\"Qualifying Name\")"
   ]
  },
  {
   "cell_type": "code",
   "execution_count": 93,
   "metadata": {
    "collapsed": true
   },
   "outputs": [],
   "source": [
    "first[\"district\"] = first[\"Qualifying Name\"].apply(harmonizer_2)"
   ]
  },
  {
   "cell_type": "code",
   "execution_count": 94,
   "metadata": {
    "collapsed": true
   },
   "outputs": [],
   "source": [
    "first.drop([\"Qualifying Name\"], axis=1, inplace=1)"
   ]
  },
  {
   "cell_type": "code",
   "execution_count": 95,
   "metadata": {
    "collapsed": true
   },
   "outputs": [],
   "source": [
    "first.drop_duplicates(inplace=1)"
   ]
  },
  {
   "cell_type": "code",
   "execution_count": 96,
   "metadata": {
    "collapsed": false
   },
   "outputs": [],
   "source": [
    "cddsorted[\"district\"] = cddsorted[\"Community Board\"].apply(harmonizer_1)"
   ]
  },
  {
   "cell_type": "code",
   "execution_count": 98,
   "metadata": {
    "collapsed": false
   },
   "outputs": [],
   "source": [
    "cddsorted.drop([\"Community Board\"], axis=1, inplace=1)"
   ]
  },
  {
   "cell_type": "code",
   "execution_count": 99,
   "metadata": {
    "collapsed": true
   },
   "outputs": [],
   "source": [
    "cddsorted = cddsorted.drop_duplicates(subset=\"counts\")"
   ]
  },
  {
   "cell_type": "code",
   "execution_count": 101,
   "metadata": {
    "collapsed": false
   },
   "outputs": [],
   "source": [
    "final = demo.merge(first, on=\"district\", how=\"inner\").merge(cddsorted, on=\"district\", how=\"inner\")"
   ]
  },
  {
   "cell_type": "code",
   "execution_count": 102,
   "metadata": {
    "collapsed": false
   },
   "outputs": [
    {
     "data": {
      "text/html": [
       "<div>\n",
       "<table border=\"1\" class=\"dataframe\">\n",
       "  <thead>\n",
       "    <tr style=\"text-align: right;\">\n",
       "      <th></th>\n",
       "      <th>district</th>\n",
       "      <th>Population Density (per sq. mile)</th>\n",
       "      <th>Mobile Broadband</th>\n",
       "      <th>Without Mobile Broadband</th>\n",
       "      <th>High</th>\n",
       "      <th>Low</th>\n",
       "      <th>counts</th>\n",
       "    </tr>\n",
       "  </thead>\n",
       "  <tbody>\n",
       "    <tr>\n",
       "      <th>0</th>\n",
       "      <td>BX08</td>\n",
       "      <td>31229.950060</td>\n",
       "      <td>17527</td>\n",
       "      <td>15943</td>\n",
       "      <td>22930</td>\n",
       "      <td>519</td>\n",
       "      <td>92733</td>\n",
       "    </tr>\n",
       "    <tr>\n",
       "      <th>1</th>\n",
       "      <td>BX12</td>\n",
       "      <td>19966.678390</td>\n",
       "      <td>11414</td>\n",
       "      <td>22542</td>\n",
       "      <td>25718</td>\n",
       "      <td>309</td>\n",
       "      <td>168455</td>\n",
       "    </tr>\n",
       "    <tr>\n",
       "      <th>2</th>\n",
       "      <td>BX10</td>\n",
       "      <td>12913.817030</td>\n",
       "      <td>12064</td>\n",
       "      <td>23389</td>\n",
       "      <td>25397</td>\n",
       "      <td>158</td>\n",
       "      <td>95496</td>\n",
       "    </tr>\n",
       "    <tr>\n",
       "      <th>3</th>\n",
       "      <td>BX11</td>\n",
       "      <td>35677.954530</td>\n",
       "      <td>11749</td>\n",
       "      <td>22835</td>\n",
       "      <td>24830</td>\n",
       "      <td>449</td>\n",
       "      <td>122081</td>\n",
       "    </tr>\n",
       "    <tr>\n",
       "      <th>4</th>\n",
       "      <td>BX03</td>\n",
       "      <td>39405.792220</td>\n",
       "      <td>16292</td>\n",
       "      <td>22435</td>\n",
       "      <td>18654</td>\n",
       "      <td>282</td>\n",
       "      <td>75134</td>\n",
       "    </tr>\n",
       "    <tr>\n",
       "      <th>5</th>\n",
       "      <td>BX07</td>\n",
       "      <td>86487.077920</td>\n",
       "      <td>16709</td>\n",
       "      <td>19414</td>\n",
       "      <td>22626</td>\n",
       "      <td>0</td>\n",
       "      <td>185729</td>\n",
       "    </tr>\n",
       "    <tr>\n",
       "      <th>6</th>\n",
       "      <td>BX05</td>\n",
       "      <td>87974.348600</td>\n",
       "      <td>15857</td>\n",
       "      <td>13401</td>\n",
       "      <td>12431</td>\n",
       "      <td>415</td>\n",
       "      <td>161078</td>\n",
       "    </tr>\n",
       "    <tr>\n",
       "      <th>7</th>\n",
       "      <td>BX04</td>\n",
       "      <td>71270.882190</td>\n",
       "      <td>18342</td>\n",
       "      <td>14419</td>\n",
       "      <td>16053</td>\n",
       "      <td>732</td>\n",
       "      <td>181953</td>\n",
       "    </tr>\n",
       "    <tr>\n",
       "      <th>8</th>\n",
       "      <td>BX09</td>\n",
       "      <td>42752.506900</td>\n",
       "      <td>12892</td>\n",
       "      <td>34775</td>\n",
       "      <td>32042</td>\n",
       "      <td>669</td>\n",
       "      <td>147457</td>\n",
       "    </tr>\n",
       "    <tr>\n",
       "      <th>9</th>\n",
       "      <td>BX01</td>\n",
       "      <td>34412.075240</td>\n",
       "      <td>15981</td>\n",
       "      <td>19144</td>\n",
       "      <td>20357</td>\n",
       "      <td>1145</td>\n",
       "      <td>74631</td>\n",
       "    </tr>\n",
       "    <tr>\n",
       "      <th>10</th>\n",
       "      <td>MN12</td>\n",
       "      <td>75217.432870</td>\n",
       "      <td>26592</td>\n",
       "      <td>32179</td>\n",
       "      <td>46246</td>\n",
       "      <td>1799</td>\n",
       "      <td>268053</td>\n",
       "    </tr>\n",
       "    <tr>\n",
       "      <th>11</th>\n",
       "      <td>MN09</td>\n",
       "      <td>77402.950100</td>\n",
       "      <td>17556</td>\n",
       "      <td>19398</td>\n",
       "      <td>25311</td>\n",
       "      <td>1411</td>\n",
       "      <td>127565</td>\n",
       "    </tr>\n",
       "    <tr>\n",
       "      <th>12</th>\n",
       "      <td>MN10</td>\n",
       "      <td>91244.889890</td>\n",
       "      <td>14746</td>\n",
       "      <td>24282</td>\n",
       "      <td>29162</td>\n",
       "      <td>434</td>\n",
       "      <td>137344</td>\n",
       "    </tr>\n",
       "    <tr>\n",
       "      <th>13</th>\n",
       "      <td>MN08</td>\n",
       "      <td>109960.139600</td>\n",
       "      <td>63973</td>\n",
       "      <td>41971</td>\n",
       "      <td>91094</td>\n",
       "      <td>824</td>\n",
       "      <td>149076</td>\n",
       "    </tr>\n",
       "    <tr>\n",
       "      <th>14</th>\n",
       "      <td>MN07</td>\n",
       "      <td>65024.961090</td>\n",
       "      <td>49546</td>\n",
       "      <td>38942</td>\n",
       "      <td>70052</td>\n",
       "      <td>533</td>\n",
       "      <td>151419</td>\n",
       "    </tr>\n",
       "    <tr>\n",
       "      <th>15</th>\n",
       "      <td>MN04</td>\n",
       "      <td>48626.990950</td>\n",
       "      <td>34994</td>\n",
       "      <td>38350</td>\n",
       "      <td>61180</td>\n",
       "      <td>329</td>\n",
       "      <td>132660</td>\n",
       "    </tr>\n",
       "    <tr>\n",
       "      <th>16</th>\n",
       "      <td>MN06</td>\n",
       "      <td>87333.791040</td>\n",
       "      <td>39450</td>\n",
       "      <td>32440</td>\n",
       "      <td>63014</td>\n",
       "      <td>758</td>\n",
       "      <td>104249</td>\n",
       "    </tr>\n",
       "    <tr>\n",
       "      <th>17</th>\n",
       "      <td>MN03</td>\n",
       "      <td>87256.670150</td>\n",
       "      <td>20868</td>\n",
       "      <td>29983</td>\n",
       "      <td>39186</td>\n",
       "      <td>577</td>\n",
       "      <td>150296</td>\n",
       "    </tr>\n",
       "    <tr>\n",
       "      <th>18</th>\n",
       "      <td>MN01</td>\n",
       "      <td>53928.053600</td>\n",
       "      <td>41450</td>\n",
       "      <td>36201</td>\n",
       "      <td>66178</td>\n",
       "      <td>590</td>\n",
       "      <td>77974</td>\n",
       "    </tr>\n",
       "    <tr>\n",
       "      <th>19</th>\n",
       "      <td>SI03</td>\n",
       "      <td>6968.306388</td>\n",
       "      <td>14334</td>\n",
       "      <td>36705</td>\n",
       "      <td>41521</td>\n",
       "      <td>331</td>\n",
       "      <td>136487</td>\n",
       "    </tr>\n",
       "    <tr>\n",
       "      <th>20</th>\n",
       "      <td>SI02</td>\n",
       "      <td>6371.997113</td>\n",
       "      <td>11206</td>\n",
       "      <td>24922</td>\n",
       "      <td>28739</td>\n",
       "      <td>652</td>\n",
       "      <td>121132</td>\n",
       "    </tr>\n",
       "    <tr>\n",
       "      <th>21</th>\n",
       "      <td>SI01</td>\n",
       "      <td>12537.604960</td>\n",
       "      <td>11151</td>\n",
       "      <td>37213</td>\n",
       "      <td>41169</td>\n",
       "      <td>454</td>\n",
       "      <td>182713</td>\n",
       "    </tr>\n",
       "    <tr>\n",
       "      <th>22</th>\n",
       "      <td>BK01</td>\n",
       "      <td>37671.510580</td>\n",
       "      <td>21459</td>\n",
       "      <td>27556</td>\n",
       "      <td>41013</td>\n",
       "      <td>598</td>\n",
       "      <td>185057</td>\n",
       "    </tr>\n",
       "    <tr>\n",
       "      <th>23</th>\n",
       "      <td>BK04</td>\n",
       "      <td>54279.761230</td>\n",
       "      <td>14171</td>\n",
       "      <td>21045</td>\n",
       "      <td>25691</td>\n",
       "      <td>139</td>\n",
       "      <td>139706</td>\n",
       "    </tr>\n",
       "    <tr>\n",
       "      <th>24</th>\n",
       "      <td>BK03</td>\n",
       "      <td>58004.868160</td>\n",
       "      <td>12648</td>\n",
       "      <td>22363</td>\n",
       "      <td>25803</td>\n",
       "      <td>754</td>\n",
       "      <td>197306</td>\n",
       "    </tr>\n",
       "    <tr>\n",
       "      <th>25</th>\n",
       "      <td>BK02</td>\n",
       "      <td>44719.888150</td>\n",
       "      <td>18679</td>\n",
       "      <td>29429</td>\n",
       "      <td>40267</td>\n",
       "      <td>562</td>\n",
       "      <td>121022</td>\n",
       "    </tr>\n",
       "    <tr>\n",
       "      <th>26</th>\n",
       "      <td>BK06</td>\n",
       "      <td>31218.503280</td>\n",
       "      <td>23815</td>\n",
       "      <td>21612</td>\n",
       "      <td>39648</td>\n",
       "      <td>356</td>\n",
       "      <td>114029</td>\n",
       "    </tr>\n",
       "    <tr>\n",
       "      <th>27</th>\n",
       "      <td>BK08</td>\n",
       "      <td>57010.543560</td>\n",
       "      <td>10559</td>\n",
       "      <td>26275</td>\n",
       "      <td>30716</td>\n",
       "      <td>533</td>\n",
       "      <td>141119</td>\n",
       "    </tr>\n",
       "    <tr>\n",
       "      <th>28</th>\n",
       "      <td>BK16</td>\n",
       "      <td>47796.011830</td>\n",
       "      <td>5927</td>\n",
       "      <td>21433</td>\n",
       "      <td>21920</td>\n",
       "      <td>496</td>\n",
       "      <td>85467</td>\n",
       "    </tr>\n",
       "    <tr>\n",
       "      <th>29</th>\n",
       "      <td>BK05</td>\n",
       "      <td>26394.764690</td>\n",
       "      <td>9572</td>\n",
       "      <td>29604</td>\n",
       "      <td>32455</td>\n",
       "      <td>512</td>\n",
       "      <td>189765</td>\n",
       "    </tr>\n",
       "    <tr>\n",
       "      <th>30</th>\n",
       "      <td>BK18</td>\n",
       "      <td>15374.526180</td>\n",
       "      <td>19215</td>\n",
       "      <td>37513</td>\n",
       "      <td>42148</td>\n",
       "      <td>507</td>\n",
       "      <td>156100</td>\n",
       "    </tr>\n",
       "    <tr>\n",
       "      <th>31</th>\n",
       "      <td>BK17</td>\n",
       "      <td>44659.444610</td>\n",
       "      <td>13596</td>\n",
       "      <td>23007</td>\n",
       "      <td>30543</td>\n",
       "      <td>622</td>\n",
       "      <td>191720</td>\n",
       "    </tr>\n",
       "    <tr>\n",
       "      <th>32</th>\n",
       "      <td>BK09</td>\n",
       "      <td>64006.179970</td>\n",
       "      <td>8591</td>\n",
       "      <td>20994</td>\n",
       "      <td>24066</td>\n",
       "      <td>898</td>\n",
       "      <td>135833</td>\n",
       "    </tr>\n",
       "    <tr>\n",
       "      <th>33</th>\n",
       "      <td>BK07</td>\n",
       "      <td>36736.915040</td>\n",
       "      <td>12123</td>\n",
       "      <td>24663</td>\n",
       "      <td>31085</td>\n",
       "      <td>290</td>\n",
       "      <td>107031</td>\n",
       "    </tr>\n",
       "    <tr>\n",
       "      <th>34</th>\n",
       "      <td>BK10</td>\n",
       "      <td>33069.986680</td>\n",
       "      <td>19341</td>\n",
       "      <td>20053</td>\n",
       "      <td>27671</td>\n",
       "      <td>735</td>\n",
       "      <td>111837</td>\n",
       "    </tr>\n",
       "    <tr>\n",
       "      <th>35</th>\n",
       "      <td>BK12</td>\n",
       "      <td>54054.487510</td>\n",
       "      <td>11935</td>\n",
       "      <td>18323</td>\n",
       "      <td>21860</td>\n",
       "      <td>539</td>\n",
       "      <td>150320</td>\n",
       "    </tr>\n",
       "    <tr>\n",
       "      <th>36</th>\n",
       "      <td>BK14</td>\n",
       "      <td>62164.359800</td>\n",
       "      <td>16540</td>\n",
       "      <td>30443</td>\n",
       "      <td>37764</td>\n",
       "      <td>629</td>\n",
       "      <td>187794</td>\n",
       "    </tr>\n",
       "    <tr>\n",
       "      <th>37</th>\n",
       "      <td>BK15</td>\n",
       "      <td>31829.054410</td>\n",
       "      <td>13969</td>\n",
       "      <td>27857</td>\n",
       "      <td>31439</td>\n",
       "      <td>870</td>\n",
       "      <td>146129</td>\n",
       "    </tr>\n",
       "    <tr>\n",
       "      <th>38</th>\n",
       "      <td>BK11</td>\n",
       "      <td>50644.631520</td>\n",
       "      <td>17710</td>\n",
       "      <td>30758</td>\n",
       "      <td>33148</td>\n",
       "      <td>831</td>\n",
       "      <td>139890</td>\n",
       "    </tr>\n",
       "    <tr>\n",
       "      <th>39</th>\n",
       "      <td>BK13</td>\n",
       "      <td>32537.409220</td>\n",
       "      <td>7779</td>\n",
       "      <td>21548</td>\n",
       "      <td>22323</td>\n",
       "      <td>492</td>\n",
       "      <td>72362</td>\n",
       "    </tr>\n",
       "    <tr>\n",
       "      <th>40</th>\n",
       "      <td>QN01</td>\n",
       "      <td>35800.759600</td>\n",
       "      <td>31144</td>\n",
       "      <td>32255</td>\n",
       "      <td>54294</td>\n",
       "      <td>769</td>\n",
       "      <td>171484</td>\n",
       "    </tr>\n",
       "    <tr>\n",
       "      <th>41</th>\n",
       "      <td>QN03</td>\n",
       "      <td>44839.980490</td>\n",
       "      <td>9750</td>\n",
       "      <td>32139</td>\n",
       "      <td>35375</td>\n",
       "      <td>427</td>\n",
       "      <td>122009</td>\n",
       "    </tr>\n",
       "    <tr>\n",
       "      <th>42</th>\n",
       "      <td>QN07</td>\n",
       "      <td>21836.668490</td>\n",
       "      <td>23421</td>\n",
       "      <td>46121</td>\n",
       "      <td>61711</td>\n",
       "      <td>347</td>\n",
       "      <td>195961</td>\n",
       "    </tr>\n",
       "    <tr>\n",
       "      <th>43</th>\n",
       "      <td>QN11</td>\n",
       "      <td>12991.169540</td>\n",
       "      <td>16201</td>\n",
       "      <td>21702</td>\n",
       "      <td>31966</td>\n",
       "      <td>314</td>\n",
       "      <td>101908</td>\n",
       "    </tr>\n",
       "    <tr>\n",
       "      <th>44</th>\n",
       "      <td>QN13</td>\n",
       "      <td>9812.563966</td>\n",
       "      <td>13931</td>\n",
       "      <td>37604</td>\n",
       "      <td>40306</td>\n",
       "      <td>1006</td>\n",
       "      <td>163851</td>\n",
       "    </tr>\n",
       "    <tr>\n",
       "      <th>45</th>\n",
       "      <td>QN08</td>\n",
       "      <td>21412.216470</td>\n",
       "      <td>15239</td>\n",
       "      <td>29686</td>\n",
       "      <td>38680</td>\n",
       "      <td>310</td>\n",
       "      <td>123131</td>\n",
       "    </tr>\n",
       "    <tr>\n",
       "      <th>46</th>\n",
       "      <td>QN04</td>\n",
       "      <td>42497.737460</td>\n",
       "      <td>8440</td>\n",
       "      <td>25775</td>\n",
       "      <td>28781</td>\n",
       "      <td>286</td>\n",
       "      <td>99316</td>\n",
       "    </tr>\n",
       "    <tr>\n",
       "      <th>47</th>\n",
       "      <td>QN06</td>\n",
       "      <td>38598.784620</td>\n",
       "      <td>13715</td>\n",
       "      <td>28978</td>\n",
       "      <td>36487</td>\n",
       "      <td>710</td>\n",
       "      <td>90938</td>\n",
       "    </tr>\n",
       "    <tr>\n",
       "      <th>48</th>\n",
       "      <td>QN02</td>\n",
       "      <td>25142.587280</td>\n",
       "      <td>14616</td>\n",
       "      <td>31087</td>\n",
       "      <td>39824</td>\n",
       "      <td>520</td>\n",
       "      <td>114333</td>\n",
       "    </tr>\n",
       "    <tr>\n",
       "      <th>49</th>\n",
       "      <td>QN05</td>\n",
       "      <td>23005.322980</td>\n",
       "      <td>9845</td>\n",
       "      <td>39150</td>\n",
       "      <td>43904</td>\n",
       "      <td>681</td>\n",
       "      <td>168570</td>\n",
       "    </tr>\n",
       "    <tr>\n",
       "      <th>50</th>\n",
       "      <td>QN09</td>\n",
       "      <td>31804.100680</td>\n",
       "      <td>11481</td>\n",
       "      <td>25492</td>\n",
       "      <td>29993</td>\n",
       "      <td>1243</td>\n",
       "      <td>151242</td>\n",
       "    </tr>\n",
       "    <tr>\n",
       "      <th>51</th>\n",
       "      <td>QN12</td>\n",
       "      <td>27089.677200</td>\n",
       "      <td>15241</td>\n",
       "      <td>39630</td>\n",
       "      <td>40100</td>\n",
       "      <td>1817</td>\n",
       "      <td>229383</td>\n",
       "    </tr>\n",
       "    <tr>\n",
       "      <th>52</th>\n",
       "      <td>QN10</td>\n",
       "      <td>21979.770830</td>\n",
       "      <td>10916</td>\n",
       "      <td>20230</td>\n",
       "      <td>23567</td>\n",
       "      <td>720</td>\n",
       "      <td>128116</td>\n",
       "    </tr>\n",
       "    <tr>\n",
       "      <th>53</th>\n",
       "      <td>QN14</td>\n",
       "      <td>9541.923526</td>\n",
       "      <td>6905</td>\n",
       "      <td>23412</td>\n",
       "      <td>23831</td>\n",
       "      <td>523</td>\n",
       "      <td>103396</td>\n",
       "    </tr>\n",
       "  </tbody>\n",
       "</table>\n",
       "</div>"
      ],
      "text/plain": [
       "   district  Population Density (per sq. mile)  Mobile Broadband  \\\n",
       "0      BX08                       31229.950060             17527   \n",
       "1      BX12                       19966.678390             11414   \n",
       "2      BX10                       12913.817030             12064   \n",
       "3      BX11                       35677.954530             11749   \n",
       "4      BX03                       39405.792220             16292   \n",
       "5      BX07                       86487.077920             16709   \n",
       "6      BX05                       87974.348600             15857   \n",
       "7      BX04                       71270.882190             18342   \n",
       "8      BX09                       42752.506900             12892   \n",
       "9      BX01                       34412.075240             15981   \n",
       "10     MN12                       75217.432870             26592   \n",
       "11     MN09                       77402.950100             17556   \n",
       "12     MN10                       91244.889890             14746   \n",
       "13     MN08                      109960.139600             63973   \n",
       "14     MN07                       65024.961090             49546   \n",
       "15     MN04                       48626.990950             34994   \n",
       "16     MN06                       87333.791040             39450   \n",
       "17     MN03                       87256.670150             20868   \n",
       "18     MN01                       53928.053600             41450   \n",
       "19     SI03                        6968.306388             14334   \n",
       "20     SI02                        6371.997113             11206   \n",
       "21     SI01                       12537.604960             11151   \n",
       "22     BK01                       37671.510580             21459   \n",
       "23     BK04                       54279.761230             14171   \n",
       "24     BK03                       58004.868160             12648   \n",
       "25     BK02                       44719.888150             18679   \n",
       "26     BK06                       31218.503280             23815   \n",
       "27     BK08                       57010.543560             10559   \n",
       "28     BK16                       47796.011830              5927   \n",
       "29     BK05                       26394.764690              9572   \n",
       "30     BK18                       15374.526180             19215   \n",
       "31     BK17                       44659.444610             13596   \n",
       "32     BK09                       64006.179970              8591   \n",
       "33     BK07                       36736.915040             12123   \n",
       "34     BK10                       33069.986680             19341   \n",
       "35     BK12                       54054.487510             11935   \n",
       "36     BK14                       62164.359800             16540   \n",
       "37     BK15                       31829.054410             13969   \n",
       "38     BK11                       50644.631520             17710   \n",
       "39     BK13                       32537.409220              7779   \n",
       "40     QN01                       35800.759600             31144   \n",
       "41     QN03                       44839.980490              9750   \n",
       "42     QN07                       21836.668490             23421   \n",
       "43     QN11                       12991.169540             16201   \n",
       "44     QN13                        9812.563966             13931   \n",
       "45     QN08                       21412.216470             15239   \n",
       "46     QN04                       42497.737460              8440   \n",
       "47     QN06                       38598.784620             13715   \n",
       "48     QN02                       25142.587280             14616   \n",
       "49     QN05                       23005.322980              9845   \n",
       "50     QN09                       31804.100680             11481   \n",
       "51     QN12                       27089.677200             15241   \n",
       "52     QN10                       21979.770830             10916   \n",
       "53     QN14                        9541.923526              6905   \n",
       "\n",
       "    Without Mobile Broadband   High   Low  counts  \n",
       "0                      15943  22930   519   92733  \n",
       "1                      22542  25718   309  168455  \n",
       "2                      23389  25397   158   95496  \n",
       "3                      22835  24830   449  122081  \n",
       "4                      22435  18654   282   75134  \n",
       "5                      19414  22626     0  185729  \n",
       "6                      13401  12431   415  161078  \n",
       "7                      14419  16053   732  181953  \n",
       "8                      34775  32042   669  147457  \n",
       "9                      19144  20357  1145   74631  \n",
       "10                     32179  46246  1799  268053  \n",
       "11                     19398  25311  1411  127565  \n",
       "12                     24282  29162   434  137344  \n",
       "13                     41971  91094   824  149076  \n",
       "14                     38942  70052   533  151419  \n",
       "15                     38350  61180   329  132660  \n",
       "16                     32440  63014   758  104249  \n",
       "17                     29983  39186   577  150296  \n",
       "18                     36201  66178   590   77974  \n",
       "19                     36705  41521   331  136487  \n",
       "20                     24922  28739   652  121132  \n",
       "21                     37213  41169   454  182713  \n",
       "22                     27556  41013   598  185057  \n",
       "23                     21045  25691   139  139706  \n",
       "24                     22363  25803   754  197306  \n",
       "25                     29429  40267   562  121022  \n",
       "26                     21612  39648   356  114029  \n",
       "27                     26275  30716   533  141119  \n",
       "28                     21433  21920   496   85467  \n",
       "29                     29604  32455   512  189765  \n",
       "30                     37513  42148   507  156100  \n",
       "31                     23007  30543   622  191720  \n",
       "32                     20994  24066   898  135833  \n",
       "33                     24663  31085   290  107031  \n",
       "34                     20053  27671   735  111837  \n",
       "35                     18323  21860   539  150320  \n",
       "36                     30443  37764   629  187794  \n",
       "37                     27857  31439   870  146129  \n",
       "38                     30758  33148   831  139890  \n",
       "39                     21548  22323   492   72362  \n",
       "40                     32255  54294   769  171484  \n",
       "41                     32139  35375   427  122009  \n",
       "42                     46121  61711   347  195961  \n",
       "43                     21702  31966   314  101908  \n",
       "44                     37604  40306  1006  163851  \n",
       "45                     29686  38680   310  123131  \n",
       "46                     25775  28781   286   99316  \n",
       "47                     28978  36487   710   90938  \n",
       "48                     31087  39824   520  114333  \n",
       "49                     39150  43904   681  168570  \n",
       "50                     25492  29993  1243  151242  \n",
       "51                     39630  40100  1817  229383  \n",
       "52                     20230  23567   720  128116  \n",
       "53                     23412  23831   523  103396  "
      ]
     },
     "execution_count": 102,
     "metadata": {},
     "output_type": "execute_result"
    }
   ],
   "source": [
    "final"
   ]
  },
  {
   "cell_type": "markdown",
   "metadata": {},
   "source": [
    "# This is a combined data frame including district, median household income, mobile broadband availability, and counts of complaint calls.  With this, we can sort by multiple columns and test our hypotheses on the effects on complaint calls.  There should be a negative correlation between mobile availability and calls.  There should be a positive correlation between population density and calls."
   ]
  }
 ],
 "metadata": {
  "kernelspec": {
   "display_name": "PUI2016_Python3",
   "language": "python",
   "name": "pui2016_python3"
  },
  "language_info": {
   "codemirror_mode": {
    "name": "ipython",
    "version": 3
   },
   "file_extension": ".py",
   "mimetype": "text/x-python",
   "name": "python",
   "nbconvert_exporter": "python",
   "pygments_lexer": "ipython3",
   "version": "3.5.2"
  }
 },
 "nbformat": 4,
 "nbformat_minor": 0
}
