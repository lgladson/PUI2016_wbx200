{
 "cells": [
  {
   "cell_type": "code",
   "execution_count": 1,
   "metadata": {
    "collapsed": true
   },
   "outputs": [],
   "source": [
    "import scipy.stats"
   ]
  },
  {
   "cell_type": "markdown",
   "metadata": {},
   "source": [
    "## 1.\tKS test – null hypothesis is that the two distributions are identical, only valid for continuous distributions\n",
    "\n",
    "#### scipy.stats.kstest(variable you’re testing, name of distribution, args = distribution parameter such as mean and std) NOTE: in the homework she set mean for norm so it would “test the shape of the distribution not whether the mean is consistant with the standard normal mean of 0”\n",
    "\n",
    "###### Example:"
   ]
  },
  {
   "cell_type": "code",
   "execution_count": null,
   "metadata": {
    "collapsed": true
   },
   "outputs": [],
   "source": [
    "scipy.stats.kstest(citibikeages, 'norm', args = citibikeages.mean(), citibikeages.std())"
   ]
  },
  {
   "cell_type": "markdown",
   "metadata": {},
   "source": [
    "#### This returns a KS Statistic and P-Value\n",
    "\n",
    "##### KS Statistic is also called D, it is the greatest distance between the cummulative function of the sample and the distribution \n",
    "##### The lower the p-value the greater the evidence to reject the null. P-value is describing the significance of D"
   ]
  },
  {
   "cell_type": "markdown",
   "metadata": {},
   "source": [
    "## 2. AD test – null hypothesis is that a sample is drawn from a population that follows a particular distribution \n",
    "\n",
    "#### uses 1 D array and cannot work with data frames, use .values.flatten()\n",
    "#### scipy.stats.anderson(variable.values.flatten(), dist = name of distribution\n",
    "\n",
    "##### Example:\n"
   ]
  },
  {
   "cell_type": "code",
   "execution_count": null,
   "metadata": {
    "collapsed": true
   },
   "outputs": [],
   "source": [
    "scipy.stats.anderson(citibikeages.values.flatten(), dist = 'norm')\n",
    "##NOTE: can only use norm, expon, logisitic, gumbel, extreme1 distributions \n",
    "##(extreme1 is same as gumble)"
   ]
  },
  {
   "cell_type": "markdown",
   "metadata": {},
   "source": [
    "### This returns an AD Statistic, Critical Values, and Significance Levels for Critical Values\n",
    "\n",
    "#### If the AD Statistic is more than the critical value for the significance level chosen we can reject the null hypothesis"
   ]
  },
  {
   "cell_type": "markdown",
   "metadata": {},
   "source": [
    "## 3.\tKL test – calculates the entropy of a distribution for given probability values\n",
    "\n",
    "### Have to pass two unnormalized distributions (perform with multiple distributions to make comparison)\n",
    "\n",
    "### scipy.stats.entropy(normalized data.values.flatten(), dist)\n",
    "\n",
    "##### Example:\n"
   ]
  },
  {
   "cell_type": "code",
   "execution_count": null,
   "metadata": {
    "collapsed": true
   },
   "outputs": [],
   "source": [
    "bins = np.arange(15,80,2) #create bins\n",
    "binnedAges = citibikeAges.age.groupby(pd.cut(citibikeAges.ages, bins)\n",
    "                                     ).agg([count_nonzero]) #separates age data into bins\n",
    "bincenters = bins[:-1] + (bins[1] – bins[0]) #find bin centers\n",
    "normdist = stats.norm.pdf(bincenters, loc=citibikeAges.mean(), scale = citibikeAges.std()) #normdist\n",
    "poissondist = scipy.stats.poisson.pmf(bincenters, cbages.mean()) #poissondist\n",
    "gumbeldist = scipy.stats.gumbel_r.pdf(bincenters, loc=loc, \n",
    "                                scale=scale) #gumble dist centers\n",
    "\n",
    "scipy.stats.entropy(binnedAges.values.flatten(), normdist)\n",
    "scipy.stats.entropy(binnedAges.values.flatten(), poissondist)\n",
    "scipy.stats.entropy(binnedAges.values.flatten(), gumbeldist)\n"
   ]
  },
  {
   "cell_type": "markdown",
   "metadata": {},
   "source": [
    "### Does not provide a p-value, entropy shows difference which can be used to see which is a better distribution model. The model with the lower entropy is best"
   ]
  },
  {
   "cell_type": "code",
   "execution_count": null,
   "metadata": {
    "collapsed": true
   },
   "outputs": [],
   "source": []
  }
 ],
 "metadata": {
  "kernelspec": {
   "display_name": "PUI2016_Python2",
   "language": "python",
   "name": "pui2016_python2"
  },
  "language_info": {
   "codemirror_mode": {
    "name": "ipython",
    "version": 2
   },
   "file_extension": ".py",
   "mimetype": "text/x-python",
   "name": "python",
   "nbconvert_exporter": "python",
   "pygments_lexer": "ipython2",
   "version": "2.7.12"
  }
 },
 "nbformat": 4,
 "nbformat_minor": 0
}
