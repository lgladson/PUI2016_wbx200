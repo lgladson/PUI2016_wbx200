{
 "cells": [
  {
   "cell_type": "markdown",
   "metadata": {},
   "source": [
    "# Gender Income Bias Homework Methods Review"
   ]
  },
  {
   "cell_type": "code",
   "execution_count": 1,
   "metadata": {
    "collapsed": true
   },
   "outputs": [],
   "source": [
    "# Import Modules \n",
    "from __future__ import print_function, division\n",
    "import sys\n",
    "import os\n",
    "import numpy \n",
    "import pylab as pl\n",
    "%pylab inline\n",
    "import pandas as pd\n",
    "from scipy.optimize import minimize  # I think this module was unique to this homework assignment\n",
    "\n",
    "import json\n",
    "import os"
   ]
  },
  {
   "cell_type": "code",
   "execution_count": null,
   "metadata": {
    "collapsed": true
   },
   "outputs": [],
   "source": [
    "# New / unique data frame functions methods\n",
    "dataframe.applymap(np.isreal)\n",
    "\n",
    "# applymap method applies a funcion to each element in the dataframe:\n",
    "# http://pandas.pydata.org/pandas-docs/stable/generated/pandas.DataFrame.applymap.html\n",
    "\n",
    "# np.isreal Returns a bool array, where True if input element is real.\n",
    "https://docs.scipy.org/doc/numpy/reference/generated/numpy.isreal.html\n",
    "    \n",
    "# These were used to loop through the all female and all male data we created to find \"non real values\" and\n",
    "# 1. if they weren't real, store as NaN, and if they were real, store as a float to make consisted.  The code\n",
    "# was as follows:\n",
    "\n",
    "for gender in [allmales, allfemales]:\n",
    "    for k in gender:\n",
    "        # find non real values in the dataframe with applymap\n",
    "        isreal  = gender[k].applymap(np.isreal)\n",
    "        for c in gender[k].columns :\n",
    "            #if some but not all values in column are real\n",
    "            #replace the non real ones\n",
    "            if isreal.sum()[c] > 0 and \\\n",
    "            isreal.sum()[c] < gender[k].shape[0]:\n",
    "                gender[k][c][~isreal[c]] =  np.nan\n",
    "                gender[k][c] = gender[k][c].astype(float)"
   ]
  },
  {
   "cell_type": "markdown",
   "metadata": {},
   "source": [
    "## Line Plot Types"
   ]
  },
  {
   "cell_type": "code",
   "execution_count": 2,
   "metadata": {
    "collapsed": false
   },
   "outputs": [
    {
     "data": {
      "text/plain": [
       "[<matplotlib.lines.Line2D at 0x7fc62361de10>]"
      ]
     },
     "execution_count": 2,
     "metadata": {},
     "output_type": "execute_result"
    }
   ],
   "source": [
    "# 1 to 1 Line - plot as (x1,y1),(x2,y2), start at 0,0 (x1,y1) and extend through the upper limits of your data.\n",
    "# Example code:\n",
    "\n",
    "pl.plot([0,45000],[0,45000], 'k-', lw = 2, label = '1 to 1 line')"
   ]
  },
  {
   "cell_type": "code",
   "execution_count": null,
   "metadata": {
    "collapsed": true
   },
   "outputs": [],
   "source": [
    "# Line Fit - Least Squares Polynomial Fit: np.polyfit (this IS NOT equivalent to OLS regression) - \n",
    "# https://docs.scipy.org/doc/numpy/reference/generated/numpy.polyfit.html\n",
    "\n",
    "# Need a line generator function \n",
    "\n",
    "def line (x,a,b):\n",
    "    '''\n",
    "    x = independent variable data (arrary / pandas dataframe column - make sure appropriately formatted)\n",
    "    a = slope of line (to be calculated via other methods and input into function)\n",
    "    b = intercept (to be calculated via other methods and input into function)\n",
    "    '''\n",
    "    \n",
    "    (a*x) + b   #returns corresponding y value based on independent variable (i.e., x)\n",
    "    \n",
    "\n",
    "params = np.polyfit (x,y,1)      # x = independent variable, y = dependent variable, 1 is the degree of fit, for \n",
    "                                 # linear line fits, this should always be 1.  This will return a 2D-array, which,\n",
    "                                 # for the purposes of the our analysis, the params[1] value should be input as 'a'\n",
    "                                 # in the line function above while the params[0] value should be input as the 'b'\n",
    "                                 # value in the function above\n",
    "\n",
    "# plot the np.polyfit line:\n",
    "\n",
    "pl.plot(x, line(params[1],params[0])\n",
    "        \n",
    "'''\n",
    "To clarify, the 'x' in the line above is your independent variable array, params[1] is the slope value generated\n",
    "from the polyfit method and the params[0] is the intercept value, both of which are fed into the line function to \n",
    "generate the y-value\n",
    "'''\n",
    "\n",
    "\n",
    "\n",
    "\n",
    "\n",
    "\n"
   ]
  },
  {
   "cell_type": "code",
   "execution_count": 8,
   "metadata": {
    "collapsed": false
   },
   "outputs": [
    {
     "ename": "SyntaxError",
     "evalue": "invalid syntax (<ipython-input-8-b58e6e8f9ede>, line 15)",
     "output_type": "error",
     "traceback": [
      "\u001b[0;36m  File \u001b[0;32m\"<ipython-input-8-b58e6e8f9ede>\"\u001b[0;36m, line \u001b[0;32m15\u001b[0m\n\u001b[0;31m    pl.plot(independent_variable, independent variable * beta1 + beta0, label=\"analytical fit line: %.1f x + %.1f\"       %(beta1, beta0))\u001b[0m\n\u001b[0m                                                     ^\u001b[0m\n\u001b[0;31mSyntaxError\u001b[0m\u001b[0;31m:\u001b[0m invalid syntax\n"
     ]
    }
   ],
   "source": [
    "# Analytical Regression Line\n",
    "\n",
    "# First, find correlation between the two variables you're measuring (in the case of the hw it was male income vs.\n",
    "# female income), via the Spearman rank-order correlation coefficient:\n",
    "# https://docs.scipy.org/doc/scipy/reference/generated/scipy.stats.spearmanr.html\n",
    "\n",
    "#Sample code which the professor provided, I'm not sure how to break it down properly but I gave it a go:\n",
    "\n",
    "correlation = stats.spearmanr(all_males, all_females)   # correlation function / test obviously\n",
    "beta1 = correlation[0] * all_females.std() / all_males.std()   # I'm not sure what the logic behind the approach is\n",
    "beta0 = all_females.mean() - beta1 * all_males.mean()          # to these two lines\n",
    "\n",
    "# plot it:\n",
    "\n",
    "pl.plot(independent_variable, independent variable * beta1 + beta0, label=\"analytical fit line: %.1f x + %.1f\"\\\n",
    "       %(beta1, beta0))\n",
    "\n",
    "'''\n",
    "she also laid out forcing the line through the 0,0 origin but at this point I think it serves to confuse\n",
    "us more.  If that somehow comes up on the exam, see cells 15 / 16 here:\n",
    "\n",
    "https://github.com/fedhere/PUI2016_fb55/blob/master/HW5_fb55/solutions/genderIncomeBias.ipynb\n",
    "\n",
    "She ends up doing more line fits in this hw, but there exercises of the same line fits previously described, just\n",
    "for the entire dataset rather than a subset of the data.\n",
    "\n",
    "Ultimately, it seems like these line fits are all kind of secondary to the sm.OLS line fit that Kelsey and I \n",
    "were reviewing in our group study session on Tuesday night, so I would defer to that line regression in any \n",
    "line fit request.  As best I could tell, the purpose of this homework was to get us to think about various \n",
    "line fits via various interpretations of the data \n",
    "\n",
    "'''\n",
    "\n",
    "\n",
    "\n"
   ]
  },
  {
   "cell_type": "code",
   "execution_count": null,
   "metadata": {
    "collapsed": true
   },
   "outputs": [],
   "source": []
  }
 ],
 "metadata": {
  "kernelspec": {
   "display_name": "PUI2016_Python3",
   "language": "python",
   "name": "pui2016_python3"
  },
  "language_info": {
   "codemirror_mode": {
    "name": "ipython",
    "version": 3
   },
   "file_extension": ".py",
   "mimetype": "text/x-python",
   "name": "python",
   "nbconvert_exporter": "python",
   "pygments_lexer": "ipython3",
   "version": "3.5.2"
  }
 },
 "nbformat": 4,
 "nbformat_minor": 0
}
